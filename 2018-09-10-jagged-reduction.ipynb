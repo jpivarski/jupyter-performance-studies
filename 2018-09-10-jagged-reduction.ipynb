{
 "cells": [
  {
   "cell_type": "markdown",
   "metadata": {},
   "source": [
    "# Jagged reduction\n",
    "\n",
    "Given a jagged array, we want to compute a reduction (e.g. `sum` or `max`) as quickly as possible. We'll study the naive sequential algorithm, Jaydeep's modified Hillis-Steele on GPU and AVX-512. As a further modification, we replace the offsets-driven gather with a parents-driven scatter, since the extra pass gather was found to be dominant over the reduction itself."
   ]
  },
  {
   "cell_type": "markdown",
   "metadata": {},
   "source": [
    "## First step: prepare data\n",
    "\n",
    "The jagged datasets are Gaussian random numbers in Poisson-distributed groups, a different dataset for each Poisson-average group size. To make debugging easier, the Gaussian numbers will be 1 +- 0.01 (the sum will always be approximately equal to the count), and there will be 15 samples with logarithmically spaced Poisson-averages:\n",
    "\n",
    "    0.3 0.5 1.0 2.0 3.0 5.0 10.0 20.0 30.0 50.0 100.0 200.0 300.0 500.0 1000.0\n",
    "\n",
    "This is about 20 GB (15 GB inputs + 5 GB outputs), and we'll cache them on disk (in `/tmp/DATA`)."
   ]
  },
  {
   "cell_type": "code",
   "execution_count": 1,
   "metadata": {},
   "outputs": [],
   "source": [
    "import numpy\n",
    "import os"
   ]
  },
  {
   "cell_type": "code",
   "execution_count": 2,
   "metadata": {},
   "outputs": [],
   "source": [
    "tasksize = 100000000\n",
    "\n",
    "def make_dataset(averagesize, location=\"/tmp/DATA\"):\n",
    "    if not os.path.exists(location):\n",
    "        os.mkdir(location)\n",
    "    counts = numpy.random.poisson(averagesize, int(numpy.ceil(tasksize / averagesize)))\n",
    "    offsets = numpy.empty(len(counts) + 1, dtype=numpy.int32)\n",
    "    offsets[0] = 0\n",
    "    numpy.cumsum(counts, out=offsets[1:])\n",
    "    del counts\n",
    "    with open(os.path.join(location, \"offsets-{}\".format(averagesize)), \"wb\") as f:\n",
    "        offsets.tofile(f)\n",
    "\n",
    "    parents = numpy.zeros(offsets[-1], dtype=numpy.int32)\n",
    "    numpy.add.at(parents, offsets[offsets != offsets[-1]][1:], 1)\n",
    "    numpy.cumsum(parents, out=parents)\n",
    "    with open(os.path.join(location, \"parents-{}\".format(averagesize)), \"wb\") as f:\n",
    "        parents.tofile(f)\n",
    "    del parents\n",
    "    \n",
    "    content = numpy.random.normal(1, 0.01, offsets[-1]).astype(numpy.float32)\n",
    "    with open(os.path.join(location, \"content-{}\".format(averagesize)), \"wb\") as f:\n",
    "        content.tofile(f)\n",
    "    del content\n",
    "    del offsets\n",
    "\n",
    "averagesizes = 0.3, 0.5, 1.0, 2.0, 3.0, 5.0, 10.0, 20.0, 30.0, 50.0, 100.0, 200.0, 300.0, 500.0, 1000.0"
   ]
  },
  {
   "cell_type": "raw",
   "metadata": {},
   "source": [
    "for averagesize in averagesizes:\n",
    "    print(averagesize)\n",
    "    make_dataset(averagesize)"
   ]
  },
  {
   "cell_type": "code",
   "execution_count": 3,
   "metadata": {},
   "outputs": [],
   "source": [
    "def get_dataset(averagesize, location=\"/tmp/DATA\"):\n",
    "    offsets = numpy.fromfile(open(os.path.join(location, \"offsets-{}\".format(averagesize))),\n",
    "                             dtype=numpy.int32)\n",
    "    parents = numpy.fromfile(open(os.path.join(location, \"parents-{}\".format(averagesize))),\n",
    "                             dtype=numpy.int32)\n",
    "    content = numpy.fromfile(open(os.path.join(location, \"content-{}\".format(averagesize))),\n",
    "                             dtype=numpy.float32)\n",
    "    return offsets, parents, content"
   ]
  },
  {
   "cell_type": "markdown",
   "metadata": {},
   "source": [
    "## Sequential algorithm\n",
    "\n",
    "This is the natural algorithm, stepping through jagged subcollections in a doubly nested for loop. We also use it to define the \"correct\" output. We'll study two such algorithms, `sum` and `max`.\n",
    "\n",
    "The `-O3` optimization and `-ftree-vectorize` flags are on, though this loop can't be vectorized because of the loop-carried dependency."
   ]
  },
  {
   "cell_type": "code",
   "execution_count": 4,
   "metadata": {},
   "outputs": [],
   "source": [
    "%load_ext Cython"
   ]
  },
  {
   "cell_type": "code",
   "execution_count": 5,
   "metadata": {},
   "outputs": [],
   "source": [
    "%%cython --cplus -c-O3 -c-ftree-vectorize\n",
    "\n",
    "from libc.stdint cimport int32_t\n",
    "\n",
    "cdef extern from \"math.h\": pass\n",
    "cdef extern from \"\":\n",
    "    \"\"\"\n",
    "void sequential_sum_impl(int32_t len_offsets, int32_t* offsets, float* content, float* output) {\n",
    "    for (int32_t i = 0;  i < len_offsets - 1;  i++) {\n",
    "        output[i] = 0.0;\n",
    "        for (int j = offsets[i];  j < offsets[i + 1];  j++) {\n",
    "            output[i] += content[j];\n",
    "        }\n",
    "    }\n",
    "}\n",
    "\n",
    "void sequential_max_impl(int32_t len_offsets, int32_t* offsets, float* content, float* output) {\n",
    "    for (int32_t i = 0;  i < len_offsets - 1;  i++) {\n",
    "        output[i] = -INFINITY;\n",
    "        for (int j = offsets[i];  j < offsets[i + 1];  j++) {\n",
    "            if (content[j] > output[i]) {\n",
    "                output[i] = content[j];\n",
    "            }\n",
    "        }\n",
    "    }\n",
    "}\n",
    "\"\"\"\n",
    "    void sequential_sum_impl(int32_t len_offsets, int32_t* offsets, float* content, float* output)\n",
    "    void sequential_max_impl(int32_t len_offsets, int32_t* offsets, float* content, float* output)\n",
    "\n",
    "def sequential_sum(offsets, parents, content, output):\n",
    "    sequential_sum_impl(len(offsets),\n",
    "                        <int32_t*>(<size_t>offsets.ctypes.data),\n",
    "                        <float*>(<size_t>content.ctypes.data),\n",
    "                        <float*>(<size_t>output.ctypes.data))\n",
    "\n",
    "def sequential_max(offsets, parents, content, output):\n",
    "    sequential_max_impl(len(offsets),\n",
    "                        <int32_t*>(<size_t>offsets.ctypes.data),\n",
    "                        <float*>(<size_t>content.ctypes.data),\n",
    "                        <float*>(<size_t>output.ctypes.data))"
   ]
  },
  {
   "cell_type": "code",
   "execution_count": 6,
   "metadata": {},
   "outputs": [],
   "source": [
    "import gc\n",
    "def define_correct(averagesize, location=\"/tmp/DATA\"):\n",
    "    offsets, parents, content = get_dataset(averagesize, location=location)\n",
    "    output = numpy.empty(len(offsets) - 1, dtype=numpy.float32)\n",
    "    sequential_sum(offsets, parents, content, output)\n",
    "    with open(os.path.join(location, \"sum-{}\".format(averagesize)), \"wb\") as f:\n",
    "        output.tofile(f)\n",
    "    sequential_max(offsets, parents, content, output)\n",
    "    with open(os.path.join(location, \"max-{}\".format(averagesize)), \"wb\") as f:\n",
    "        output.tofile(f)\n",
    "    del offsets, parents, content, output\n",
    "    gc.collect()"
   ]
  },
  {
   "cell_type": "raw",
   "metadata": {},
   "source": [
    "for averagesize in averagesizes:\n",
    "    print(averagesize)\n",
    "    define_correct(averagesize)"
   ]
  },
  {
   "cell_type": "markdown",
   "metadata": {},
   "source": [
    "## Measure time\n",
    "\n",
    "We'll use wall time of 10 repetitions, not counting data-loading or memory allocation."
   ]
  },
  {
   "cell_type": "code",
   "execution_count": 7,
   "metadata": {},
   "outputs": [],
   "source": [
    "import time\n",
    "\n",
    "def measure(averagesize, run, numtimes=10, location=\"/tmp/DATA\"):\n",
    "    offsets, parents, content = get_dataset(averagesize, location=location)\n",
    "    output = numpy.empty(len(offsets) - 1, dtype=numpy.float32)\n",
    "    starttime = time.time()\n",
    "    for i in range(numtimes):\n",
    "        run(offsets, parents, content, output)\n",
    "    runtime = time.time() - starttime\n",
    "    del offsets, parents, content, output\n",
    "    gc.collect()\n",
    "    return tasksize * numtimes * 1e-6 / runtime   # MHz in number of particles (not events)"
   ]
  },
  {
   "cell_type": "code",
   "execution_count": 8,
   "metadata": {},
   "outputs": [],
   "source": [
    "import pandas\n",
    "\n",
    "sum_rates = pandas.DataFrame(index=averagesizes, columns=[\"sequential\"])\n",
    "max_rates = pandas.DataFrame(index=averagesizes, columns=[\"sequential\"])\n",
    "sum_rates.index.name = \"average number of items per group\"\n",
    "max_rates.index.name = \"average number of items per group\""
   ]
  },
  {
   "cell_type": "code",
   "execution_count": 9,
   "metadata": {},
   "outputs": [
    {
     "name": "stdout",
     "output_type": "stream",
     "text": [
      "sum 0.3\n",
      "sum 0.5\n",
      "sum 1.0\n",
      "sum 2.0\n",
      "sum 3.0\n",
      "sum 5.0\n",
      "sum 10.0\n",
      "sum 20.0\n",
      "sum 30.0\n",
      "sum 50.0\n",
      "sum 100.0\n",
      "sum 200.0\n",
      "sum 300.0\n",
      "sum 500.0\n",
      "sum 1000.0\n"
     ]
    }
   ],
   "source": [
    "for averagesize in averagesizes:\n",
    "    print(\"sum\", averagesize)\n",
    "    sum_rates.loc[averagesize, \"sequential\"] = measure(averagesize, sequential_sum)"
   ]
  },
  {
   "cell_type": "code",
   "execution_count": 10,
   "metadata": {},
   "outputs": [
    {
     "name": "stdout",
     "output_type": "stream",
     "text": [
      "max 0.3\n",
      "max 0.5\n",
      "max 1.0\n",
      "max 2.0\n",
      "max 3.0\n",
      "max 5.0\n",
      "max 10.0\n",
      "max 20.0\n",
      "max 30.0\n",
      "max 50.0\n",
      "max 100.0\n",
      "max 200.0\n",
      "max 300.0\n",
      "max 500.0\n",
      "max 1000.0\n"
     ]
    }
   ],
   "source": [
    "for averagesize in averagesizes:\n",
    "    print(\"max\", averagesize)\n",
    "    max_rates.loc[averagesize, \"sequential\"] = measure(averagesize, sequential_max)"
   ]
  },
  {
   "cell_type": "code",
   "execution_count": 11,
   "metadata": {},
   "outputs": [],
   "source": [
    "%matplotlib inline"
   ]
  },
  {
   "cell_type": "code",
   "execution_count": 12,
   "metadata": {},
   "outputs": [
    {
     "data": {
      "text/plain": [
       "<matplotlib.axes._subplots.AxesSubplot at 0x7f7823fe8470>"
      ]
     },
     "execution_count": 12,
     "metadata": {},
     "output_type": "execute_result"
    },
    {
     "data": {
      "image/png": "[encoded data removed]",
      "text/plain": [
       "<Figure size 432x288 with 1 Axes>"
      ]
     },
     "metadata": {},
     "output_type": "display_data"
    }
   ],
   "source": [
    "sum_rates.plot(logx=True)"
   ]
  },
  {
   "cell_type": "code",
   "execution_count": 13,
   "metadata": {},
   "outputs": [
    {
     "data": {
      "text/plain": [
       "<matplotlib.axes._subplots.AxesSubplot at 0x7f7823b5a6d8>"
      ]
     },
     "execution_count": 13,
     "metadata": {},
     "output_type": "execute_result"
    },
    {
     "data": {
      "image/png": "[encoded data removed]",
      "text/plain": [
       "<Figure size 432x288 with 1 Axes>"
      ]
     },
     "metadata": {},
     "output_type": "display_data"
    }
   ],
   "source": [
    "max_rates.plot(logx=True)"
   ]
  },
  {
   "cell_type": "markdown",
   "metadata": {},
   "source": [
    "## Sequential algorithm 2: scatter from parents\n",
    "\n",
    "The first sequential algorithm determined which items belong in which group from the `offsets` array, but it could have made that determination from the `parents` array. The `parents` array is aligned with `content` and will be crucial to the vectorized algorithms."
   ]
  },
  {
   "cell_type": "code",
   "execution_count": 14,
   "metadata": {},
   "outputs": [],
   "source": [
    "%%cython --cplus -c-O3 -c-ftree-vectorize\n",
    "\n",
    "from libc.stdint cimport int32_t\n",
    "\n",
    "cdef extern from \"math.h\": pass\n",
    "cdef extern from \"string.h\": pass\n",
    "cdef extern from \"\":\n",
    "    \"\"\"\n",
    "void sequential2_sum_impl(int32_t len_offsets, int32_t len_parents, int32_t* parents, float* content, float* output) {\n",
    "    memset(output, 0, sizeof(float) * (len_offsets - 1));\n",
    "    int32_t lastparent = -1;\n",
    "    float cumulative = 0.0;\n",
    "    int i;\n",
    "    for (i = 0;  i < len_parents;  i++) {\n",
    "        if (lastparent != -1  &&  lastparent != parents[i]) {\n",
    "            output[lastparent] = cumulative;\n",
    "            cumulative = 0.0;\n",
    "        }\n",
    "        cumulative += content[i];\n",
    "        lastparent = parents[i];\n",
    "    }\n",
    "    if (lastparent != -1) {\n",
    "        output[lastparent] = cumulative;\n",
    "    }\n",
    "}\n",
    "\n",
    "void sequential2_max_impl(int32_t len_offsets, int32_t len_parents, int32_t* parents, float* content, float* output) {\n",
    "    for (int i = 0;  i < len_offsets - 1;  i++) {\n",
    "        output[i] = -INFINITY;\n",
    "    }\n",
    "    int32_t lastparent = -1;\n",
    "    float cumulative = -INFINITY;\n",
    "    int i;\n",
    "    for (i = 0;  i < len_parents;  i++) {\n",
    "        if (lastparent != -1  &&  lastparent != parents[i]) {\n",
    "            output[lastparent] = cumulative;\n",
    "            cumulative = -INFINITY;\n",
    "        }\n",
    "        if (content[i] > cumulative) {\n",
    "            cumulative = content[i];\n",
    "        }\n",
    "        lastparent = parents[i];\n",
    "    }\n",
    "    if (lastparent != -1) {\n",
    "        output[lastparent] = cumulative;\n",
    "    }\n",
    "}\n",
    "\"\"\"\n",
    "    void sequential2_sum_impl(int32_t len_offsets, int32_t len_parents, int32_t* parents, float* content, float* output)\n",
    "    void sequential2_max_impl(int32_t len_offsets, int32_t len_parents, int32_t* parents, float* content, float* output)\n",
    "\n",
    "def sequential2_sum(offsets, parents, content, output):\n",
    "    sequential2_sum_impl(len(offsets),\n",
    "                         len(parents),\n",
    "                         <int32_t*>(<size_t>parents.ctypes.data),\n",
    "                         <float*>(<size_t>content.ctypes.data),\n",
    "                         <float*>(<size_t>output.ctypes.data))\n",
    "\n",
    "def sequential2_max(offsets, parents, content, output):\n",
    "    sequential2_max_impl(len(offsets),\n",
    "                         len(parents),\n",
    "                         <int32_t*>(<size_t>parents.ctypes.data),\n",
    "                         <float*>(<size_t>content.ctypes.data),\n",
    "                         <float*>(<size_t>output.ctypes.data))"
   ]
  },
  {
   "cell_type": "markdown",
   "metadata": {},
   "source": [
    "This is a new algorithm, so we must verify its correctness. In general (not this case), different algorithms add numbers in a different order, so we have to allow for small errors due to the non-associativity of floating-point addition."
   ]
  },
  {
   "cell_type": "code",
   "execution_count": 15,
   "metadata": {},
   "outputs": [],
   "source": [
    "import gc\n",
    "def verify_correct(averagesize, run, which, location=\"/tmp/DATA\"):\n",
    "    offsets, parents, content = get_dataset(averagesize, location=location)\n",
    "    output = numpy.empty(len(offsets) - 1, dtype=numpy.float32)\n",
    "    run(offsets, parents, content, output)\n",
    "    original = numpy.fromfile(open(os.path.join(location, \"{}-{}\".format(which, averagesize)), \"rb\"),\n",
    "                              dtype=numpy.float32)\n",
    "    mask1 = numpy.isfinite(output)\n",
    "    mask2 = numpy.isfinite(original)\n",
    "    if not numpy.array_equal(mask1, mask2) or numpy.absolute(output[mask1] - original[mask2]).max() > 0.003:\n",
    "        print(\"averagesize {} {} is not correct\".format(averagesize, which))\n",
    "        return offsets, parents, content, output, original\n",
    "    del offsets, parents, content, output, original\n",
    "    gc.collect()\n",
    "    return None, None, None, None, None"
   ]
  },
  {
   "cell_type": "raw",
   "metadata": {},
   "source": [
    "for averagesize in averagesizes:\n",
    "    offsets, parents, content, output, original = verify_correct(averagesize, sequential2_sum, \"sum\")\n",
    "    if output is not None:\n",
    "        break"
   ]
  },
  {
   "cell_type": "raw",
   "metadata": {},
   "source": [
    "for averagesize in averagesizes:\n",
    "    offsets, parents, content, output, original = verify_correct(averagesize, sequential2_max, \"max\")\n",
    "    if output is not None:\n",
    "        break"
   ]
  },
  {
   "cell_type": "markdown",
   "metadata": {},
   "source": [
    "Now we can measure its performance."
   ]
  },
  {
   "cell_type": "code",
   "execution_count": 16,
   "metadata": {},
   "outputs": [
    {
     "name": "stdout",
     "output_type": "stream",
     "text": [
      "sum 0.3\n",
      "sum 0.5\n",
      "sum 1.0\n",
      "sum 2.0\n",
      "sum 3.0\n",
      "sum 5.0\n",
      "sum 10.0\n",
      "sum 20.0\n",
      "sum 30.0\n",
      "sum 50.0\n",
      "sum 100.0\n",
      "sum 200.0\n",
      "sum 300.0\n",
      "sum 500.0\n",
      "sum 1000.0\n"
     ]
    }
   ],
   "source": [
    "for averagesize in averagesizes:\n",
    "    print(\"sum\", averagesize)\n",
    "    sum_rates.loc[averagesize, \"sequential-parents\"] = measure(averagesize, sequential2_sum)"
   ]
  },
  {
   "cell_type": "code",
   "execution_count": 17,
   "metadata": {},
   "outputs": [
    {
     "name": "stdout",
     "output_type": "stream",
     "text": [
      "max 0.3\n",
      "max 0.5\n",
      "max 1.0\n",
      "max 2.0\n",
      "max 3.0\n",
      "max 5.0\n",
      "max 10.0\n",
      "max 20.0\n",
      "max 30.0\n",
      "max 50.0\n",
      "max 100.0\n",
      "max 200.0\n",
      "max 300.0\n",
      "max 500.0\n",
      "max 1000.0\n"
     ]
    }
   ],
   "source": [
    "for averagesize in averagesizes:\n",
    "    print(\"max\", averagesize)\n",
    "    max_rates.loc[averagesize, \"sequential-parents\"] = measure(averagesize, sequential2_max)"
   ]
  },
  {
   "cell_type": "code",
   "execution_count": 18,
   "metadata": {},
   "outputs": [
    {
     "data": {
      "text/plain": [
       "<matplotlib.axes._subplots.AxesSubplot at 0x7f7823bb32b0>"
      ]
     },
     "execution_count": 18,
     "metadata": {},
     "output_type": "execute_result"
    },
    {
     "data": {
      "image/png": "[encoded data removed]",
      "text/plain": [
       "<Figure size 432x288 with 1 Axes>"
      ]
     },
     "metadata": {},
     "output_type": "display_data"
    }
   ],
   "source": [
    "sum_rates.plot(logx=True)"
   ]
  },
  {
   "cell_type": "code",
   "execution_count": 19,
   "metadata": {},
   "outputs": [
    {
     "data": {
      "text/plain": [
       "<matplotlib.axes._subplots.AxesSubplot at 0x7f78237c5208>"
      ]
     },
     "execution_count": 19,
     "metadata": {},
     "output_type": "execute_result"
    },
    {
     "data": {
      "image/png": "[encoded data removed]",
      "text/plain": [
       "<Figure size 432x288 with 1 Axes>"
      ]
     },
     "metadata": {},
     "output_type": "display_data"
    }
   ],
   "source": [
    "max_rates.plot(logx=True)"
   ]
  },
  {
   "cell_type": "markdown",
   "metadata": {},
   "source": [
    "## Vectorized by 16\n",
    "\n",
    "Below, Jaydeep's vectorized jagged reduction is implemented for a vector size of 16 items. Since these are 32-bit integers and floats, that means a 512-bit vector register (AVX-512). The code below will be _emulated_ on CPUs without AVX-512 instructions. Smaller vector units give less of a speedup because this algorithm approaches the sequential case as the vector size → one item."
   ]
  },
  {
   "cell_type": "code",
   "execution_count": 20,
   "metadata": {},
   "outputs": [],
   "source": [
    "%%cython --cplus -c-O3 -c-ftree-vectorize -c-march=native -c-mfma -c-Ivectorclass\n",
    "\n",
    "cdef extern from \"\":\n",
    "    \"#define MAX_VECTOR_SIZE 512\"   # must be defined before including vectorclass\n",
    "\n",
    "from libc.stdint cimport int32_t\n",
    "\n",
    "cdef extern from \"math.h\": pass\n",
    "cdef extern from \"string.h\": pass\n",
    "cdef extern from \"vectorclass.h\":\n",
    "    \"\"\"\n",
    "void vectorized16_sum_impl(int32_t len_offsets, int32_t len_parents, int32_t* parents, float* content, float* output) {\n",
    "    memset(output, 0, sizeof(float) * (len_offsets - 1));\n",
    "\n",
    "    Vec16f s;\n",
    "    Vec16f scarry = {0.0, 0.0, 0.0, 0.0, 0.0, 0.0, 0.0, 0.0, 0.0, 0.0, 0.0, 0.0, 0.0, 0.0, 0.0, 0.0};\n",
    "    Vec16i p;\n",
    "    Vec16i pcarry = {-1, -1, -1, -1, -1, -1, -1, -1, -1, -1, -1, -1, -1, -1, -1, -1};\n",
    "\n",
    "    Vec16i p2;\n",
    "    Vec16i p2none = {-1, -1, -1, -1, -1, -1, -1, -1, -1, -1, -1, -1, -1, -1, -1, -1};\n",
    "\n",
    "    for (int i = 0;  i < len_parents;  i += 16) {\n",
    "        s.load(&content[i]);\n",
    "        p.load(&parents[i]);\n",
    "        p2.load(&parents[i + 1]);\n",
    "\n",
    "        s = if_add(p == pcarry, s, scarry);\n",
    "\n",
    "        s = if_add(p == permute16i<-1,  0,  1,  2,  3,  4,  5,  6,  7,  8,  9, 10, 11, 12, 13, 14>(p),\n",
    "                   s,   permute16f<-1,  0,  1,  2,  3,  4,  5,  6,  7,  8,  9, 10, 11, 12, 13, 14>(s));\n",
    "\n",
    "        s = if_add(p == permute16i<-1, -1,  0,  1,  2,  3,  4,  5,  6,  7,  8,  9, 10, 11, 12, 13>(p),\n",
    "                   s,   permute16f<-1, -1,  0,  1,  2,  3,  4,  5,  6,  7,  8,  9, 10, 11, 12, 13>(s));\n",
    "\n",
    "        s = if_add(p == permute16i<-1, -1, -1, -1,  0,  1,  2,  3,  4,  5,  6,  7,  8,  9, 10, 11>(p),\n",
    "                   s,   permute16f<-1, -1, -1, -1,  0,  1,  2,  3,  4,  5,  6,  7,  8,  9, 10, 11>(s));\n",
    "\n",
    "        s = if_add(p == permute16i<-1, -1, -1, -1, -1, -1, -1, -1,  0,  1,  2,  3,  4,  5,  6,  7>(p),\n",
    "                   s,   permute16f<-1, -1, -1, -1, -1, -1, -1, -1,  0,  1,  2,  3,  4,  5,  6,  7>(s));\n",
    "\n",
    "        scarry = blend16f<15, 31, 31, 31, 31, 31, 31, 31, 31, 31, 31, 31, 31, 31, 31, 31>(s, scarry);\n",
    "        pcarry = blend16i<15, 31, 31, 31, 31, 31, 31, 31, 31, 31, 31, 31, 31, 31, 31, 31>(p, pcarry);\n",
    "\n",
    "        scatter(select(p == p2, p2none, p), len_offsets, s, output);\n",
    "    }\n",
    "}\n",
    "\n",
    "void vectorized16_max_impl(int32_t len_offsets, int32_t len_parents, int32_t* parents, float* content, float* output) {\n",
    "    for (int i = 0;  i < len_offsets - 1;  i++) {\n",
    "        output[i] = -INFINITY;\n",
    "    }\n",
    "\n",
    "    Vec16f s;\n",
    "    Vec16f scarry = {-INFINITY, -INFINITY, -INFINITY, -INFINITY, -INFINITY, -INFINITY, -INFINITY, -INFINITY,\n",
    "                     -INFINITY, -INFINITY, -INFINITY, -INFINITY, -INFINITY, -INFINITY, -INFINITY, -INFINITY};\n",
    "    Vec16f szero  = {-INFINITY, -INFINITY, -INFINITY, -INFINITY, -INFINITY, -INFINITY, -INFINITY, -INFINITY,\n",
    "                     -INFINITY, -INFINITY, -INFINITY, -INFINITY, -INFINITY, -INFINITY, -INFINITY, -INFINITY};\n",
    "    Vec16f sblend;\n",
    "    Vec16i p;\n",
    "    Vec16i pcarry = {-1, -1, -1, -1, -1, -1, -1, -1, -1, -1, -1, -1, -1, -1, -1, -1};\n",
    "\n",
    "    Vec16i p2;\n",
    "    Vec16i p2none = {-1, -1, -1, -1, -1, -1, -1, -1, -1, -1, -1, -1, -1, -1, -1, -1};\n",
    "\n",
    "    for (int i = 0;  i < len_parents;  i += 16) {\n",
    "        s.load(&content[i]);\n",
    "        p.load(&parents[i]);\n",
    "        p2.load(&parents[i + 1]);\n",
    "\n",
    "        s = select((p == pcarry) & (scarry > s), scarry, s);\n",
    "\n",
    "        sblend           = blend16f<16,  0,  1,  2,  3,  4,  5,  6,  7,  8,  9, 10, 11, 12, 13, 14>(s, szero);\n",
    "        s = select((p == permute16i<-1,  0,  1,  2,  3,  4,  5,  6,  7,  8,  9, 10, 11, 12, 13, 14>(p)) & (sblend > s), sblend, s);\n",
    "\n",
    "        sblend           = blend16f<16, 16,  0,  1,  2,  3,  4,  5,  6,  7,  8,  9, 10, 11, 12, 13>(s, szero);\n",
    "        s = select((p == permute16i<-1, -1,  0,  1,  2,  3,  4,  5,  6,  7,  8,  9, 10, 11, 12, 13>(p)) & (sblend > s), sblend, s);\n",
    "\n",
    "        sblend           = blend16f<16, 16, 16, 16,  0,  1,  2,  3,  4,  5,  6,  7,  8,  9, 10, 11>(s, szero);\n",
    "        s = select((p == permute16i<-1, -1, -1, -1,  0,  1,  2,  3,  4,  5,  6,  7,  8,  9, 10, 11>(p)) & (sblend > s), sblend, s);\n",
    "\n",
    "        sblend           = blend16f<16, 16, 16, 16, 16, 16, 16, 16,  0,  1,  2,  3,  4,  5,  6,  7>(s, szero);\n",
    "        s = select((p == permute16i<-1, -1, -1, -1, -1, -1, -1, -1,  0,  1,  2,  3,  4,  5,  6,  7>(p)) & (sblend > s), sblend, s);\n",
    "\n",
    "        scarry = blend16f<15, 31, 31, 31, 31, 31, 31, 31, 31, 31, 31, 31, 31, 31, 31, 31>(s, scarry);\n",
    "        pcarry = blend16i<15, 31, 31, 31, 31, 31, 31, 31, 31, 31, 31, 31, 31, 31, 31, 31>(p, pcarry);\n",
    "\n",
    "        scatter(select(p == p2, p2none, p), len_offsets, s, output);\n",
    "    }\n",
    "}\n",
    "\"\"\"\n",
    "    void vectorized16_sum_impl(int32_t len_offsets, int32_t len_parents, int32_t* parents, float* content, float* output)\n",
    "    void vectorized16_max_impl(int32_t len_offsets, int32_t len_parents, int32_t* parents, float* content, float* output)\n",
    "\n",
    "def vectorized16_sum(offsets, parents, content, output):\n",
    "    vectorized16_sum_impl(len(offsets),\n",
    "                          len(parents),\n",
    "                          <int32_t*>(<size_t>parents.ctypes.data),\n",
    "                          <float*>(<size_t>content.ctypes.data),\n",
    "                          <float*>(<size_t>output.ctypes.data))\n",
    "\n",
    "def vectorized16_max(offsets, parents, content, output):\n",
    "    vectorized16_max_impl(len(offsets),\n",
    "                          len(parents),\n",
    "                          <int32_t*>(<size_t>parents.ctypes.data),\n",
    "                          <float*>(<size_t>content.ctypes.data),\n",
    "                          <float*>(<size_t>output.ctypes.data))"
   ]
  },
  {
   "cell_type": "raw",
   "metadata": {},
   "source": [
    "for averagesize in averagesizes:\n",
    "    print(averagesize)\n",
    "    offsets, parents, content, output, original = verify_correct(averagesize, vectorized16_sum, \"sum\")\n",
    "    if output is not None:\n",
    "        break"
   ]
  },
  {
   "cell_type": "raw",
   "metadata": {},
   "source": [
    "for averagesize in averagesizes:\n",
    "    print(averagesize)\n",
    "    offsets, parents, content, output, original = verify_correct(averagesize, vectorized16_max, \"max\")\n",
    "    if output is not None:\n",
    "        break"
   ]
  },
  {
   "cell_type": "code",
   "execution_count": 21,
   "metadata": {},
   "outputs": [
    {
     "name": "stdout",
     "output_type": "stream",
     "text": [
      "sum 0.3\n",
      "sum 0.5\n",
      "sum 1.0\n",
      "sum 2.0\n",
      "sum 3.0\n",
      "sum 5.0\n",
      "sum 10.0\n",
      "sum 20.0\n",
      "sum 30.0\n",
      "sum 50.0\n",
      "sum 100.0\n",
      "sum 200.0\n",
      "sum 300.0\n",
      "sum 500.0\n",
      "sum 1000.0\n"
     ]
    }
   ],
   "source": [
    "for averagesize in averagesizes:\n",
    "    print(\"sum\", averagesize)\n",
    "    sum_rates.loc[averagesize, \"vectorized (AVX-512)\"] = measure(averagesize, vectorized16_sum)"
   ]
  },
  {
   "cell_type": "code",
   "execution_count": 22,
   "metadata": {},
   "outputs": [
    {
     "name": "stdout",
     "output_type": "stream",
     "text": [
      "max 0.3\n",
      "max 0.5\n",
      "max 1.0\n",
      "max 2.0\n",
      "max 3.0\n",
      "max 5.0\n",
      "max 10.0\n",
      "max 20.0\n",
      "max 30.0\n",
      "max 50.0\n",
      "max 100.0\n",
      "max 200.0\n",
      "max 300.0\n",
      "max 500.0\n",
      "max 1000.0\n"
     ]
    }
   ],
   "source": [
    "for averagesize in averagesizes:\n",
    "    print(\"max\", averagesize)\n",
    "    max_rates.loc[averagesize, \"vectorized (AVX-512)\"] = measure(averagesize, vectorized16_max)"
   ]
  },
  {
   "cell_type": "code",
   "execution_count": 37,
   "metadata": {},
   "outputs": [
    {
     "data": {
      "text/plain": [
       "<matplotlib.axes._subplots.AxesSubplot at 0x7f78138b1b38>"
      ]
     },
     "execution_count": 37,
     "metadata": {},
     "output_type": "execute_result"
    },
    {
     "data": {
      "image/png": "[encoded data removed]",
      "text/plain": [
       "<Figure size 432x288 with 1 Axes>"
      ]
     },
     "metadata": {},
     "output_type": "display_data"
    }
   ],
   "source": [
    "sum_rates.plot(logx=True)"
   ]
  },
  {
   "cell_type": "code",
   "execution_count": 38,
   "metadata": {},
   "outputs": [
    {
     "data": {
      "text/plain": [
       "<matplotlib.axes._subplots.AxesSubplot at 0x7f78137b32b0>"
      ]
     },
     "execution_count": 38,
     "metadata": {},
     "output_type": "execute_result"
    },
    {
     "data": {
      "image/png": "[encoded data removed]",
      "text/plain": [
       "<Figure size 432x288 with 1 Axes>"
      ]
     },
     "metadata": {},
     "output_type": "display_data"
    }
   ],
   "source": [
    "max_rates.plot(logx=True)"
   ]
  },
  {
   "cell_type": "markdown",
   "metadata": {},
   "source": [
    "## Vectorized by 1024 (GPU/CUDA)\n",
    "\n",
    "The same technique can be applied at a much larger scale on a GPU. The main difference in the CUDA code below is that we have no idea which order the blocks will be evaluated in, so passing partial events over vector borders (the \"carry\" in the algorithm above) must be performed as a separate step, to be sure that the first set of blocks have finished.\n",
    "\n",
    "Since this step is likely to be part of a larger analysis performed on a GPU, with arrays already loaded on the GPU, we don't include the data copy from CPU to GPU in the performance. (Also, it depends heavily on the hardware, not a good test of the algorithm.)"
   ]
  },
  {
   "cell_type": "code",
   "execution_count": 25,
   "metadata": {},
   "outputs": [],
   "source": [
    "import pycuda\n",
    "import pycuda.autoinit\n",
    "import pycuda.compiler\n",
    "import pycuda.gpuarray"
   ]
  },
  {
   "cell_type": "code",
   "execution_count": 26,
   "metadata": {},
   "outputs": [],
   "source": [
    "module = pycuda.compiler.SourceModule(\"\"\"\n",
    "__global__ void sum_step1(int len_offsets, int* offsets, float* output, int* blockoffsets) {\n",
    "    int i = threadIdx.x + blockIdx.x*blockDim.x;\n",
    "    // initialize output\n",
    "    if (i < len_offsets - 1) {\n",
    "        output[i] = 0.0;\n",
    "    }\n",
    "    \n",
    "    // set up blockoffsets\n",
    "    if (i != 0  &&  i < len_offsets - 1) {\n",
    "        int prevblock = offsets[i - 1] / 1024;\n",
    "        int thisblock = offsets[i] / 1024;\n",
    "        if (prevblock != thisblock) {\n",
    "            blockoffsets[thisblock] = offsets[i - 1];\n",
    "        }\n",
    "    }\n",
    "}\n",
    "\n",
    "__global__ void sum_step2(int* blockoffsets, int len_parents, int* parents, float* content, float* output) {\n",
    "    int offset = blockoffsets[blockIdx.x];\n",
    "    int nextoffset = blockoffsets[blockIdx.x + 1];\n",
    "    \n",
    "    // parallel cumulative sum\n",
    "    int i = threadIdx.x;\n",
    "    if (i < nextoffset - offset) {\n",
    "        for (int d = 1;  d < 1024;  d *= 2) {\n",
    "            if (i >= d  &&  parents[offset + i] == parents[offset + i - d]) {\n",
    "                content[offset + i] += content[offset + i - d];\n",
    "            }\n",
    "            __syncthreads();\n",
    "        }\n",
    "    }\n",
    "\n",
    "    // send the last element of each group to the output\n",
    "    if ((offset + i < len_parents - 1  &&  parents[offset + i + 1] != parents[offset + i])  ||  offset + i == len_parents - 1) {\n",
    "        output[parents[offset + i]] = content[offset + i];\n",
    "    }\n",
    "\n",
    "    // clean up extra items for groups that overhang the 1024 boundary (rare)\n",
    "    if (nextoffset - offset > 1024  &&  i == 1023) {\n",
    "        for (i = i + 1;  i < nextoffset - offset;  i++) {\n",
    "            if (parents[offset + i] == parents[offset + i - 1]) {\n",
    "                content[offset + i] += content[offset + i - 1];\n",
    "            }\n",
    "        }\n",
    "        output[parents[offset + i - 1]] = content[offset + i - 1];\n",
    "    }\n",
    "}\n",
    "\n",
    "__global__ void max_step1(int len_offsets, int* offsets, float* output, int* blockoffsets) {\n",
    "    int i = threadIdx.x + blockIdx.x*blockDim.x;\n",
    "    // initialize output\n",
    "    if (i < len_offsets - 1) {\n",
    "        output[i] = -INFINITY;\n",
    "    }\n",
    "    \n",
    "    // set up blockoffsets\n",
    "    if (i != 0  &&  i < len_offsets - 1) {\n",
    "        int prevblock = offsets[i - 1] / 1024;\n",
    "        int thisblock = offsets[i] / 1024;\n",
    "        if (prevblock != thisblock) {\n",
    "            blockoffsets[thisblock] = offsets[i - 1];\n",
    "        }\n",
    "    }\n",
    "}\n",
    "\n",
    "__global__ void max_step2(int* blockoffsets, int len_parents, int* parents, float* content, float* output) {\n",
    "    int offset = blockoffsets[blockIdx.x];\n",
    "    int nextoffset = blockoffsets[blockIdx.x + 1];\n",
    "    \n",
    "    // parallel cumulative sum\n",
    "    int i = threadIdx.x;\n",
    "    if (i < nextoffset - offset) {\n",
    "        for (int d = 1;  d < 1024;  d *= 2) {\n",
    "            if (i >= d  &&  parents[offset + i] == parents[offset + i - d]  &&  content[offset + i] < content[offset + i - d]) {\n",
    "                content[offset + i] = content[offset + i - d];\n",
    "            }\n",
    "            __syncthreads();\n",
    "        }\n",
    "    }\n",
    "\n",
    "    // send the last element of each group to the output\n",
    "    if ((offset + i < len_parents - 1  &&  parents[offset + i + 1] != parents[offset + i])  ||  offset + i == len_parents - 1) {\n",
    "        output[parents[offset + i]] = content[offset + i];\n",
    "    }\n",
    "\n",
    "    // clean up extra items for groups that overhang the 1024 boundary (rare)\n",
    "    if (nextoffset - offset > 1024  &&  i == 1023) {\n",
    "        for (i = i + 1;  i < nextoffset - offset;  i++) {\n",
    "            if (parents[offset + i] == parents[offset + i - 1]  &&  content[offset + i] < content[offset + i - 1]) {\n",
    "                content[offset + i] = content[offset + i - 1];\n",
    "            }\n",
    "        }\n",
    "        output[parents[offset + i - 1]] = content[offset + i - 1];\n",
    "    }\n",
    "}\n",
    "\"\"\")\n",
    "\n",
    "sum_step1 = module.get_function(\"sum_step1\")\n",
    "sum_step2 = module.get_function(\"sum_step2\")\n",
    "max_step1 = module.get_function(\"max_step1\")\n",
    "max_step2 = module.get_function(\"max_step2\")"
   ]
  },
  {
   "cell_type": "code",
   "execution_count": 27,
   "metadata": {},
   "outputs": [],
   "source": [
    "def get_dataset_cuda(averagesize, location=\"/tmp/DATA\"):\n",
    "    offsets, parents, content = get_dataset(averagesize, location=location)\n",
    "    offsets = pycuda.gpuarray.to_gpu(offsets)\n",
    "    parents = pycuda.gpuarray.to_gpu(parents)\n",
    "    content = pycuda.gpuarray.to_gpu(content)\n",
    "    blockoffsets = pycuda.gpuarray.zeros(len(parents) // 1024 + 1, dtype=numpy.int32)\n",
    "    output = pycuda.gpuarray.empty(len(offsets) - 1, dtype=numpy.float32)\n",
    "    return offsets, parents, content, blockoffsets, output\n",
    "\n",
    "def run_sum(offsets, parents, content, blockoffsets, output):\n",
    "    sum_step1(numpy.int32(len(offsets)), offsets, output, blockoffsets,\n",
    "              block=(1024, 1, 1), grid=(len(output) // 1024 + 1, 1))\n",
    "    sum_step2(blockoffsets, numpy.int32(len(parents)), parents, content, output,\n",
    "              block=(1024, 1, 1), grid=(len(blockoffsets) - 1, 1))\n",
    "\n",
    "def run_max(offsets, parents, content, blockoffsets, output):\n",
    "    max_step1(numpy.int32(len(offsets)), offsets, output, blockoffsets,\n",
    "              block=(1024, 1, 1), grid=(len(output) // 1024 + 1, 1))\n",
    "    max_step2(blockoffsets, numpy.int32(len(parents)), parents, content, output,\n",
    "              block=(1024, 1, 1), grid=(len(blockoffsets) - 1, 1))"
   ]
  },
  {
   "cell_type": "code",
   "execution_count": 28,
   "metadata": {},
   "outputs": [],
   "source": [
    "import time\n",
    "\n",
    "def measure_cuda(averagesize, run, numtimes=10, location=\"/tmp/DATA\"):\n",
    "    offsets, parents, content, blockoffsets, output = get_dataset_cuda(averagesize, location=location)\n",
    "    starttime = time.time()\n",
    "    for i in range(numtimes):\n",
    "        run(offsets, parents, content, blockoffsets, output)\n",
    "    pycuda.driver.Context.synchronize()\n",
    "    runtime = time.time() - starttime\n",
    "    del offsets, parents, content, blockoffsets, output\n",
    "    return tasksize * numtimes * 1e-6 / runtime   # MHz in number of particles (not events)"
   ]
  },
  {
   "cell_type": "code",
   "execution_count": 35,
   "metadata": {},
   "outputs": [
    {
     "name": "stdout",
     "output_type": "stream",
     "text": [
      "sum 0.3\n",
      "sum 0.5\n",
      "sum 1.0\n",
      "sum 2.0\n",
      "sum 3.0\n",
      "sum 5.0\n",
      "sum 10.0\n",
      "sum 20.0\n",
      "sum 30.0\n",
      "sum 50.0\n",
      "sum 100.0\n",
      "sum 200.0\n",
      "sum 300.0\n",
      "sum 500.0\n"
     ]
    }
   ],
   "source": [
    "for averagesize in averagesizes[:-3]:\n",
    "    print(\"sum\", averagesize)\n",
    "    sum_rates.loc[averagesize, \"vectorized (GPU)\"] = measure_cuda(averagesize, run_sum)"
   ]
  },
  {
   "cell_type": "code",
   "execution_count": 36,
   "metadata": {},
   "outputs": [
    {
     "name": "stdout",
     "output_type": "stream",
     "text": [
      "max 0.3\n",
      "max 0.5\n",
      "max 1.0\n",
      "max 2.0\n",
      "max 3.0\n",
      "max 5.0\n",
      "max 10.0\n",
      "max 20.0\n",
      "max 30.0\n",
      "max 50.0\n",
      "max 100.0\n",
      "max 200.0\n",
      "max 300.0\n",
      "max 500.0\n"
     ]
    }
   ],
   "source": [
    "for averagesize in averagesizes[:-3]:\n",
    "    print(\"max\", averagesize)\n",
    "    max_rates.loc[averagesize, \"vectorized (GPU)\"] = measure_cuda(averagesize, run_max)"
   ]
  },
  {
   "cell_type": "code",
   "execution_count": 31,
   "metadata": {},
   "outputs": [
    {
     "data": {
      "image/png": "[encoded data removed]",
      "text/plain": [
       "<Figure size 432x288 with 1 Axes>"
      ]
     },
     "metadata": {},
     "output_type": "display_data"
    }
   ],
   "source": [
    "sum_rates.plot(logx=True).get_figure().savefig(\"sum_rates.pdf\")"
   ]
  },
  {
   "cell_type": "code",
   "execution_count": 32,
   "metadata": {},
   "outputs": [
    {
     "data": {
      "image/png": "[encoded data removed]",
      "text/plain": [
       "<Figure size 432x288 with 1 Axes>"
      ]
     },
     "metadata": {},
     "output_type": "display_data"
    }
   ],
   "source": [
    "max_rates.plot(logx=True).get_figure().savefig(\"max_rates.pdf\")"
   ]
  },
  {
   "cell_type": "code",
   "execution_count": 33,
   "metadata": {},
   "outputs": [
    {
     "data": {
      "text/html": [
       "<div>\n",
       "<style scoped>\n",
       "    .dataframe tbody tr th:only-of-type {\n",
       "        vertical-align: middle;\n",
       "    }\n",
       "\n",
       "    .dataframe tbody tr th {\n",
       "        vertical-align: top;\n",
       "    }\n",
       "\n",
       "    .dataframe thead th {\n",
       "        text-align: right;\n",
       "    }\n",
       "</style>\n",
       "<table border=\"1\" class=\"dataframe\">\n",
       "  <thead>\n",
       "    <tr style=\"text-align: right;\">\n",
       "      <th></th>\n",
       "      <th>sequential</th>\n",
       "      <th>seq-parents</th>\n",
       "      <th>vectorized (AVX-512)</th>\n",
       "      <th>GPU</th>\n",
       "    </tr>\n",
       "    <tr>\n",
       "      <th>average number of items per group</th>\n",
       "      <th></th>\n",
       "      <th></th>\n",
       "      <th></th>\n",
       "      <th></th>\n",
       "    </tr>\n",
       "  </thead>\n",
       "  <tbody>\n",
       "    <tr>\n",
       "      <th>0.3</th>\n",
       "      <td>101.046</td>\n",
       "      <td>408.877716</td>\n",
       "      <td>316.234367</td>\n",
       "      <td>2096.176230</td>\n",
       "    </tr>\n",
       "    <tr>\n",
       "      <th>0.5</th>\n",
       "      <td>118.018</td>\n",
       "      <td>392.823925</td>\n",
       "      <td>292.896872</td>\n",
       "      <td>2591.471255</td>\n",
       "    </tr>\n",
       "    <tr>\n",
       "      <th>1.0</th>\n",
       "      <td>166.24</td>\n",
       "      <td>304.420425</td>\n",
       "      <td>234.075730</td>\n",
       "      <td>3068.512713</td>\n",
       "    </tr>\n",
       "    <tr>\n",
       "      <th>2.0</th>\n",
       "      <td>253.291</td>\n",
       "      <td>308.495894</td>\n",
       "      <td>234.882443</td>\n",
       "      <td>3279.313286</td>\n",
       "    </tr>\n",
       "    <tr>\n",
       "      <th>3.0</th>\n",
       "      <td>341.732</td>\n",
       "      <td>365.909288</td>\n",
       "      <td>289.207036</td>\n",
       "      <td>3286.150124</td>\n",
       "    </tr>\n",
       "    <tr>\n",
       "      <th>5.0</th>\n",
       "      <td>511.259</td>\n",
       "      <td>483.598450</td>\n",
       "      <td>403.714210</td>\n",
       "      <td>3214.784792</td>\n",
       "    </tr>\n",
       "    <tr>\n",
       "      <th>10.0</th>\n",
       "      <td>861.903</td>\n",
       "      <td>685.136683</td>\n",
       "      <td>589.144900</td>\n",
       "      <td>3071.800513</td>\n",
       "    </tr>\n",
       "    <tr>\n",
       "      <th>20.0</th>\n",
       "      <td>1200.09</td>\n",
       "      <td>845.355838</td>\n",
       "      <td>787.786846</td>\n",
       "      <td>2877.799802</td>\n",
       "    </tr>\n",
       "    <tr>\n",
       "      <th>30.0</th>\n",
       "      <td>1381.28</td>\n",
       "      <td>928.627712</td>\n",
       "      <td>883.592307</td>\n",
       "      <td>2672.945999</td>\n",
       "    </tr>\n",
       "    <tr>\n",
       "      <th>50.0</th>\n",
       "      <td>1406.54</td>\n",
       "      <td>1081.990016</td>\n",
       "      <td>1022.148105</td>\n",
       "      <td>2384.438714</td>\n",
       "    </tr>\n",
       "    <tr>\n",
       "      <th>100.0</th>\n",
       "      <td>1165.19</td>\n",
       "      <td>1029.015698</td>\n",
       "      <td>1112.032465</td>\n",
       "      <td>1874.653165</td>\n",
       "    </tr>\n",
       "    <tr>\n",
       "      <th>200.0</th>\n",
       "      <td>1086.43</td>\n",
       "      <td>1032.395523</td>\n",
       "      <td>1157.451694</td>\n",
       "      <td>1545.222481</td>\n",
       "    </tr>\n",
       "    <tr>\n",
       "      <th>300.0</th>\n",
       "      <td>1036.63</td>\n",
       "      <td>988.969335</td>\n",
       "      <td>1133.731111</td>\n",
       "      <td>NaN</td>\n",
       "    </tr>\n",
       "    <tr>\n",
       "      <th>500.0</th>\n",
       "      <td>1036.69</td>\n",
       "      <td>958.818594</td>\n",
       "      <td>1146.082398</td>\n",
       "      <td>NaN</td>\n",
       "    </tr>\n",
       "    <tr>\n",
       "      <th>1000.0</th>\n",
       "      <td>1012.27</td>\n",
       "      <td>959.251902</td>\n",
       "      <td>1144.243012</td>\n",
       "      <td>NaN</td>\n",
       "    </tr>\n",
       "  </tbody>\n",
       "</table>\n",
       "</div>"
      ],
      "text/plain": [
       "                                  sequential  seq-parents  \\\n",
       "average number of items per group                           \n",
       "0.3                                  101.046   408.877716   \n",
       "0.5                                  118.018   392.823925   \n",
       "1.0                                   166.24   304.420425   \n",
       "2.0                                  253.291   308.495894   \n",
       "3.0                                  341.732   365.909288   \n",
       "5.0                                  511.259   483.598450   \n",
       "10.0                                 861.903   685.136683   \n",
       "20.0                                 1200.09   845.355838   \n",
       "30.0                                 1381.28   928.627712   \n",
       "50.0                                 1406.54  1081.990016   \n",
       "100.0                                1165.19  1029.015698   \n",
       "200.0                                1086.43  1032.395523   \n",
       "300.0                                1036.63   988.969335   \n",
       "500.0                                1036.69   958.818594   \n",
       "1000.0                               1012.27   959.251902   \n",
       "\n",
       "                                   vectorized (AVX-512)          GPU  \n",
       "average number of items per group                                     \n",
       "0.3                                          316.234367  2096.176230  \n",
       "0.5                                          292.896872  2591.471255  \n",
       "1.0                                          234.075730  3068.512713  \n",
       "2.0                                          234.882443  3279.313286  \n",
       "3.0                                          289.207036  3286.150124  \n",
       "5.0                                          403.714210  3214.784792  \n",
       "10.0                                         589.144900  3071.800513  \n",
       "20.0                                         787.786846  2877.799802  \n",
       "30.0                                         883.592307  2672.945999  \n",
       "50.0                                        1022.148105  2384.438714  \n",
       "100.0                                       1112.032465  1874.653165  \n",
       "200.0                                       1157.451694  1545.222481  \n",
       "300.0                                       1133.731111          NaN  \n",
       "500.0                                       1146.082398          NaN  \n",
       "1000.0                                      1144.243012          NaN  "
      ]
     },
     "execution_count": 33,
     "metadata": {},
     "output_type": "execute_result"
    }
   ],
   "source": [
    "sum_rates"
   ]
  },
  {
   "cell_type": "code",
   "execution_count": 34,
   "metadata": {},
   "outputs": [
    {
     "data": {
      "text/html": [
       "<div>\n",
       "<style scoped>\n",
       "    .dataframe tbody tr th:only-of-type {\n",
       "        vertical-align: middle;\n",
       "    }\n",
       "\n",
       "    .dataframe tbody tr th {\n",
       "        vertical-align: top;\n",
       "    }\n",
       "\n",
       "    .dataframe thead th {\n",
       "        text-align: right;\n",
       "    }\n",
       "</style>\n",
       "<table border=\"1\" class=\"dataframe\">\n",
       "  <thead>\n",
       "    <tr style=\"text-align: right;\">\n",
       "      <th></th>\n",
       "      <th>sequential</th>\n",
       "      <th>seq-parents</th>\n",
       "      <th>vectorized (AVX-512)</th>\n",
       "      <th>GPU</th>\n",
       "    </tr>\n",
       "    <tr>\n",
       "      <th>average number of items per group</th>\n",
       "      <th></th>\n",
       "      <th></th>\n",
       "      <th></th>\n",
       "      <th></th>\n",
       "    </tr>\n",
       "  </thead>\n",
       "  <tbody>\n",
       "    <tr>\n",
       "      <th>0.3</th>\n",
       "      <td>99.3267</td>\n",
       "      <td>332.523148</td>\n",
       "      <td>263.538663</td>\n",
       "      <td>2144.709869</td>\n",
       "    </tr>\n",
       "    <tr>\n",
       "      <th>0.5</th>\n",
       "      <td>108.684</td>\n",
       "      <td>334.343065</td>\n",
       "      <td>258.453032</td>\n",
       "      <td>2624.487686</td>\n",
       "    </tr>\n",
       "    <tr>\n",
       "      <th>1.0</th>\n",
       "      <td>136.557</td>\n",
       "      <td>270.891108</td>\n",
       "      <td>217.911166</td>\n",
       "      <td>3102.215549</td>\n",
       "    </tr>\n",
       "    <tr>\n",
       "      <th>2.0</th>\n",
       "      <td>175.947</td>\n",
       "      <td>278.174870</td>\n",
       "      <td>222.685447</td>\n",
       "      <td>3358.506158</td>\n",
       "    </tr>\n",
       "    <tr>\n",
       "      <th>3.0</th>\n",
       "      <td>212.145</td>\n",
       "      <td>330.947956</td>\n",
       "      <td>272.016093</td>\n",
       "      <td>3330.554631</td>\n",
       "    </tr>\n",
       "    <tr>\n",
       "      <th>5.0</th>\n",
       "      <td>271.007</td>\n",
       "      <td>441.053071</td>\n",
       "      <td>376.409808</td>\n",
       "      <td>3287.242130</td>\n",
       "    </tr>\n",
       "    <tr>\n",
       "      <th>10.0</th>\n",
       "      <td>376.026</td>\n",
       "      <td>663.495386</td>\n",
       "      <td>540.163889</td>\n",
       "      <td>3148.883969</td>\n",
       "    </tr>\n",
       "    <tr>\n",
       "      <th>20.0</th>\n",
       "      <td>507.768</td>\n",
       "      <td>885.511681</td>\n",
       "      <td>702.636455</td>\n",
       "      <td>2947.626152</td>\n",
       "    </tr>\n",
       "    <tr>\n",
       "      <th>30.0</th>\n",
       "      <td>594.825</td>\n",
       "      <td>977.364718</td>\n",
       "      <td>770.991781</td>\n",
       "      <td>2732.541731</td>\n",
       "    </tr>\n",
       "    <tr>\n",
       "      <th>50.0</th>\n",
       "      <td>705.502</td>\n",
       "      <td>1041.565742</td>\n",
       "      <td>838.011727</td>\n",
       "      <td>2426.593631</td>\n",
       "    </tr>\n",
       "    <tr>\n",
       "      <th>100.0</th>\n",
       "      <td>831.212</td>\n",
       "      <td>1032.678940</td>\n",
       "      <td>879.641324</td>\n",
       "      <td>1889.258896</td>\n",
       "    </tr>\n",
       "    <tr>\n",
       "      <th>200.0</th>\n",
       "      <td>921.789</td>\n",
       "      <td>1023.035909</td>\n",
       "      <td>890.036095</td>\n",
       "      <td>1548.866444</td>\n",
       "    </tr>\n",
       "    <tr>\n",
       "      <th>300.0</th>\n",
       "      <td>989.437</td>\n",
       "      <td>1011.193199</td>\n",
       "      <td>901.707078</td>\n",
       "      <td>NaN</td>\n",
       "    </tr>\n",
       "    <tr>\n",
       "      <th>500.0</th>\n",
       "      <td>1039.34</td>\n",
       "      <td>952.658745</td>\n",
       "      <td>889.265620</td>\n",
       "      <td>NaN</td>\n",
       "    </tr>\n",
       "    <tr>\n",
       "      <th>1000.0</th>\n",
       "      <td>1080.95</td>\n",
       "      <td>986.203092</td>\n",
       "      <td>899.747042</td>\n",
       "      <td>NaN</td>\n",
       "    </tr>\n",
       "  </tbody>\n",
       "</table>\n",
       "</div>"
      ],
      "text/plain": [
       "                                  sequential  seq-parents  \\\n",
       "average number of items per group                           \n",
       "0.3                                  99.3267   332.523148   \n",
       "0.5                                  108.684   334.343065   \n",
       "1.0                                  136.557   270.891108   \n",
       "2.0                                  175.947   278.174870   \n",
       "3.0                                  212.145   330.947956   \n",
       "5.0                                  271.007   441.053071   \n",
       "10.0                                 376.026   663.495386   \n",
       "20.0                                 507.768   885.511681   \n",
       "30.0                                 594.825   977.364718   \n",
       "50.0                                 705.502  1041.565742   \n",
       "100.0                                831.212  1032.678940   \n",
       "200.0                                921.789  1023.035909   \n",
       "300.0                                989.437  1011.193199   \n",
       "500.0                                1039.34   952.658745   \n",
       "1000.0                               1080.95   986.203092   \n",
       "\n",
       "                                   vectorized (AVX-512)          GPU  \n",
       "average number of items per group                                     \n",
       "0.3                                          263.538663  2144.709869  \n",
       "0.5                                          258.453032  2624.487686  \n",
       "1.0                                          217.911166  3102.215549  \n",
       "2.0                                          222.685447  3358.506158  \n",
       "3.0                                          272.016093  3330.554631  \n",
       "5.0                                          376.409808  3287.242130  \n",
       "10.0                                         540.163889  3148.883969  \n",
       "20.0                                         702.636455  2947.626152  \n",
       "30.0                                         770.991781  2732.541731  \n",
       "50.0                                         838.011727  2426.593631  \n",
       "100.0                                        879.641324  1889.258896  \n",
       "200.0                                        890.036095  1548.866444  \n",
       "300.0                                        901.707078          NaN  \n",
       "500.0                                        889.265620          NaN  \n",
       "1000.0                                       899.747042          NaN  "
      ]
     },
     "execution_count": 34,
     "metadata": {},
     "output_type": "execute_result"
    }
   ],
   "source": [
    "max_rates"
   ]
  },
  {
   "cell_type": "code",
   "execution_count": null,
   "metadata": {},
   "outputs": [],
   "source": []
  }
 ],
 "metadata": {
  "kernelspec": {
   "display_name": "Python 3",
   "language": "python",
   "name": "python3"
  },
  "language_info": {
   "codemirror_mode": {
    "name": "ipython",
    "version": 3
   },
   "file_extension": ".py",
   "mimetype": "text/x-python",
   "name": "python",
   "nbconvert_exporter": "python",
   "pygments_lexer": "ipython3",
   "version": "3.6.5"
  }
 },
 "nbformat": 4,
 "nbformat_minor": 2
}
