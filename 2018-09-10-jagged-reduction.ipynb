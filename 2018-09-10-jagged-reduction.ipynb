{
 "cells": [
  {
   "cell_type": "markdown",
   "metadata": {},
   "source": [
    "# Jagged reduction\n",
    "\n",
    "Given a jagged array, we want to compute a reduction (e.g. `sum` or `max`) as quickly as possible. We'll study the naive sequential algorithm, Jaydeep's modified Hillis-Steele on GPU and AVX-512. As a further modification, we replace the offsets-driven gather with a parents-driven scatter, since the extra pass gather was found to be dominant over the reduction itself."
   ]
  },
  {
   "cell_type": "markdown",
   "metadata": {},
   "source": [
    "## First step: prepare data\n",
    "\n",
    "The jagged datasets are Gaussian random numbers in Poisson-distributed groups, a different dataset for each Poisson-average group size. To make debugging easier, the Gaussian numbers will be 1 +- 0.01 (the sum will always be approximately equal to the count), and there will be 15 samples with logarithmically spaced Poisson-averages:\n",
    "\n",
    "    0.3 0.5 1.0 2.0 3.0 5.0 10.0 20.0 30.0 50.0 100.0 200.0 300.0 500.0 1000.0\n",
    "\n",
    "This is about 15 GB, and we'll cache them on disk (in `/tmp/DATA`)."
   ]
  },
  {
   "cell_type": "code",
   "execution_count": 1,
   "metadata": {},
   "outputs": [],
   "source": [
    "import numpy\n",
    "import os"
   ]
  },
  {
   "cell_type": "code",
   "execution_count": 1,
   "metadata": {},
   "outputs": [],
   "source": [
    "def make_dataset(averagesize, tasksize=100000000, location=\"/tmp/DATA\"):\n",
    "    if not os.path.exists(location):\n",
    "        os.mkdir(location)\n",
    "    counts = numpy.random.poisson(averagesize, int(numpy.ceil(tasksize / averagesize)))\n",
    "    offsets = numpy.empty(len(counts) + 1, dtype=numpy.int32)\n",
    "    offsets[0] = 0\n",
    "    numpy.cumsum(counts, out=offsets[1:])\n",
    "    del counts\n",
    "    with open(os.path.join(location, \"offsets-{}\".format(averagesize)), \"wb\") as f:\n",
    "        offsets.tofile(f)\n",
    "\n",
    "    parents = numpy.zeros(len(content), dtype=numpy.int32)\n",
    "    numpy.add.at(parents, offsets[offsets != offsets[-1]][1:], 1)\n",
    "    numpy.cumsum(parents, out=parents)\n",
    "    with open(os.path.join(location, \"parents-{}\".format(averagesize)), \"wb\") as f:\n",
    "        parents.tofile(f)\n",
    "    del parents\n",
    "    \n",
    "    content = numpy.random.normal(1, 0.01, offsets[-1]).astype(numpy.float32)\n",
    "    with open(os.path.join(location, \"content-{}\".format(averagesize)), \"wb\") as f:\n",
    "        content.tofile(f)\n",
    "    del content\n",
    "    del offsets\n",
    "\n",
    "# for averagesize in (0.3, 0.5, 1.0, 2.0, 3.0, 5.0, 10.0, 20.0, 30.0,\n",
    "#                     50.0, 100.0, 200.0, 300.0, 500.0, 1000.0):\n",
    "#     make_dataset(averagesize)"
   ]
  },
  {
   "cell_type": "code",
   "execution_count": 7,
   "metadata": {},
   "outputs": [],
   "source": [
    "def get_dataset(averagesize, location=\"/tmp/DATA\"):\n",
    "    offsets = numpy.fromfile(open(os.path.join(location, \"offsets-{}\".format(averagesize))),\n",
    "                             dtype=numpy.int32)\n",
    "    parents = numpy.fromfile(open(os.path.join(location, \"parents-{}\".format(averagesize))),\n",
    "                             dtype=numpy.int32)\n",
    "    content = numpy.fromfile(open(os.path.join(location, \"content-{}\".format(averagesize))),\n",
    "                             dtype=numpy.float32)\n",
    "    return offsets, parents, content"
   ]
  },
  {
   "cell_type": "markdown",
   "metadata": {},
   "source": [
    "## Sequential algorithm\n",
    "\n",
    "This is the natural algorithm, stepping through jagged subcollections in a doubly nested for loop. We also use it to define the \"correct\" output. We'll study two such algorithms, `sum` and `max`."
   ]
  },
  {
   "cell_type": "code",
   "execution_count": 4,
   "metadata": {},
   "outputs": [],
   "source": [
    "%load_ext Cython"
   ]
  },
  {
   "cell_type": "code",
   "execution_count": null,
   "metadata": {},
   "outputs": [],
   "source": [
    "%%cython --cplus -c-std"
   ]
  }
 ],
 "metadata": {
  "kernelspec": {
   "display_name": "Python 3",
   "language": "python",
   "name": "python3"
  },
  "language_info": {
   "codemirror_mode": {
    "name": "ipython",
    "version": 3
   },
   "file_extension": ".py",
   "mimetype": "text/x-python",
   "name": "python",
   "nbconvert_exporter": "python",
   "pygments_lexer": "ipython3",
   "version": "3.6.5"
  }
 },
 "nbformat": 4,
 "nbformat_minor": 2
}
