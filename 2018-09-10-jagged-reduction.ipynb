{
 "cells": [
  {
   "cell_type": "markdown",
   "metadata": {},
   "source": [
    "# Jagged reduction\n",
    "\n",
    "Given a jagged array, we want to compute a reduction (e.g. `sum` or `max`) as quickly as possible. We'll study the naive sequential algorithm, Jaydeep's modified Hillis-Steele on GPU and AVX-512. As a further modification, we replace the offsets-driven gather with a parents-driven scatter, since the extra pass gather was found to be dominant over the reduction itself."
   ]
  },
  {
   "cell_type": "markdown",
   "metadata": {},
   "source": [
    "## First step: prepare data\n",
    "\n",
    "The jagged datasets are Gaussian random numbers in Poisson-distributed groups, a different dataset for each Poisson-average group size. To make debugging easier, the Gaussian numbers will be 1 +- 0.01 (the sum will always be approximately equal to the count), and there will be 15 samples with logarithmically spaced Poisson-averages:\n",
    "\n",
    "    0.3 0.5 1.0 2.0 3.0 5.0 10.0 20.0 30.0 50.0 100.0 200.0 300.0 500.0 1000.0\n",
    "\n",
    "This is about 20 GB (15 GB inputs + 5 GB outputs), and we'll cache them on disk (in `/tmp/DATA`)."
   ]
  },
  {
   "cell_type": "code",
   "execution_count": 1,
   "metadata": {},
   "outputs": [],
   "source": [
    "import numpy\n",
    "import os"
   ]
  },
  {
   "cell_type": "code",
   "execution_count": 2,
   "metadata": {},
   "outputs": [],
   "source": [
    "tasksize = 100000000\n",
    "\n",
    "def make_dataset(averagesize, location=\"/tmp/DATA\"):\n",
    "    if not os.path.exists(location):\n",
    "        os.mkdir(location)\n",
    "    counts = numpy.random.poisson(averagesize, int(numpy.ceil(tasksize / averagesize)))\n",
    "    offsets = numpy.empty(len(counts) + 1, dtype=numpy.int32)\n",
    "    offsets[0] = 0\n",
    "    numpy.cumsum(counts, out=offsets[1:])\n",
    "    del counts\n",
    "    with open(os.path.join(location, \"offsets-{}\".format(averagesize)), \"wb\") as f:\n",
    "        offsets.tofile(f)\n",
    "\n",
    "    parents = numpy.zeros(offsets[-1], dtype=numpy.int32)\n",
    "    numpy.add.at(parents, offsets[offsets != offsets[-1]][1:], 1)\n",
    "    numpy.cumsum(parents, out=parents)\n",
    "    with open(os.path.join(location, \"parents-{}\".format(averagesize)), \"wb\") as f:\n",
    "        parents.tofile(f)\n",
    "    del parents\n",
    "    \n",
    "    content = numpy.random.normal(1, 0.01, offsets[-1]).astype(numpy.float32)\n",
    "    with open(os.path.join(location, \"content-{}\".format(averagesize)), \"wb\") as f:\n",
    "        content.tofile(f)\n",
    "    del content\n",
    "    del offsets\n",
    "\n",
    "averagesizes = 0.3, 0.5, 1.0, 2.0, 3.0, 5.0, 10.0, 20.0, 30.0, 50.0, 100.0, 200.0, 300.0, 500.0, 1000.0"
   ]
  },
  {
   "cell_type": "raw",
   "metadata": {},
   "source": [
    "for averagesize in averagesizes:\n",
    "    print(averagesize)\n",
    "    make_dataset(averagesize)"
   ]
  },
  {
   "cell_type": "code",
   "execution_count": 3,
   "metadata": {},
   "outputs": [],
   "source": [
    "def get_dataset(averagesize, location=\"/tmp/DATA\"):\n",
    "    offsets = numpy.fromfile(open(os.path.join(location, \"offsets-{}\".format(averagesize))),\n",
    "                             dtype=numpy.int32)\n",
    "    parents = numpy.fromfile(open(os.path.join(location, \"parents-{}\".format(averagesize))),\n",
    "                             dtype=numpy.int32)\n",
    "    content = numpy.fromfile(open(os.path.join(location, \"content-{}\".format(averagesize))),\n",
    "                             dtype=numpy.float32)\n",
    "    return offsets, parents, content"
   ]
  },
  {
   "cell_type": "markdown",
   "metadata": {},
   "source": [
    "## Sequential algorithm\n",
    "\n",
    "This is the natural algorithm, stepping through jagged subcollections in a doubly nested for loop. We also use it to define the \"correct\" output. We'll study two such algorithms, `sum` and `max`.\n",
    "\n",
    "The `-O3` optimization and `-ftree-vectorize` flags are on, though this loop can't be vectorized because of the loop-carried dependency."
   ]
  },
  {
   "cell_type": "code",
   "execution_count": 4,
   "metadata": {},
   "outputs": [],
   "source": [
    "%load_ext Cython"
   ]
  },
  {
   "cell_type": "code",
   "execution_count": 10,
   "metadata": {},
   "outputs": [],
   "source": [
    "%%cython --cplus -c-O3 -c-ftree-vectorize\n",
    "\n",
    "from libc.stdint cimport int32_t\n",
    "\n",
    "cdef extern from \"math.h\": pass\n",
    "cdef extern from \"ctime\": pass\n",
    "cdef extern from \"\":\n",
    "    \"\"\"\n",
    "double sequential_sum_impl(int32_t len_offsets, int32_t* offsets, float* content, float* output, int32_t numtimes) {\n",
    "    std::clock_t starttime = std::clock();\n",
    "    for (int32_t time = 0;  time < numtimes;  time++) {\n",
    "        for (int32_t i = 0;  i < len_offsets - 1;  i++) {\n",
    "            output[i] = 0.0;\n",
    "            for (int j = offsets[i];  j < offsets[i + 1];  j++) {\n",
    "                output[i] += content[j];\n",
    "            }\n",
    "        }\n",
    "    }\n",
    "    return (std::clock() - starttime) / (double)CLOCKS_PER_SEC / (double)numtimes;\n",
    "}\n",
    "\n",
    "double sequential_max_impl(int32_t len_offsets, int32_t* offsets, float* content, float* output, int32_t numtimes) {\n",
    "    std::clock_t starttime = std::clock();\n",
    "    for (int32_t time = 0;  time < numtimes;  time++) {\n",
    "        for (int32_t i = 0;  i < len_offsets - 1;  i++) {\n",
    "            output[i] = -INFINITY;\n",
    "            for (int j = offsets[i];  j < offsets[i + 1];  j++) {\n",
    "                if (content[j] > output[i]) {\n",
    "                    output[i] = content[j];\n",
    "                }\n",
    "            }\n",
    "        }\n",
    "    }\n",
    "    return (std::clock() - starttime) / (double)CLOCKS_PER_SEC / (double)numtimes;\n",
    "}\n",
    "\"\"\"\n",
    "    double sequential_sum_impl(int32_t len_offsets, int32_t* offsets, float* content, float* output, int32_t numtimes)\n",
    "    double sequential_max_impl(int32_t len_offsets, int32_t* offsets, float* content, float* output, int32_t numtimes)\n",
    "\n",
    "def sequential_sum(offsets, parents, content, output, numtimes):\n",
    "    return sequential_sum_impl(len(offsets),\n",
    "                               <int32_t*>(<size_t>offsets.ctypes.data),\n",
    "                               <float*>(<size_t>content.ctypes.data),\n",
    "                               <float*>(<size_t>output.ctypes.data),\n",
    "                               numtimes)\n",
    "\n",
    "def sequential_max(offsets, parents, content, output, numtimes):\n",
    "    return sequential_max_impl(len(offsets),\n",
    "                               <int32_t*>(<size_t>offsets.ctypes.data),\n",
    "                               <float*>(<size_t>content.ctypes.data),\n",
    "                               <float*>(<size_t>output.ctypes.data),\n",
    "                               numtimes)"
   ]
  },
  {
   "cell_type": "code",
   "execution_count": 6,
   "metadata": {},
   "outputs": [],
   "source": [
    "import gc\n",
    "def define_correct(averagesize, location=\"/tmp/DATA\"):\n",
    "    offsets, parents, content = get_dataset(averagesize, location=location)\n",
    "    output = numpy.empty(len(offsets) - 1, dtype=numpy.float32)\n",
    "    sequential_sum(offsets, parents, content, output, 1)\n",
    "    with open(os.path.join(location, \"sum-{}\".format(averagesize)), \"wb\") as f:\n",
    "        output.tofile(f)\n",
    "    sequential_max(offsets, parents, content, output, 1)\n",
    "    with open(os.path.join(location, \"max-{}\".format(averagesize)), \"wb\") as f:\n",
    "        output.tofile(f)\n",
    "    del offsets, parents, content, output\n",
    "    gc.collect()"
   ]
  },
  {
   "cell_type": "raw",
   "metadata": {},
   "source": [
    "for averagesize in averagesizes:\n",
    "    print(averagesize)\n",
    "    define_correct(averagesize)"
   ]
  },
  {
   "cell_type": "markdown",
   "metadata": {},
   "source": [
    "## Measure time\n",
    "\n",
    "We'll use wall time of 30 repetitions, not counting data-loading or memory allocation."
   ]
  },
  {
   "cell_type": "code",
   "execution_count": 11,
   "metadata": {},
   "outputs": [],
   "source": [
    "def measure(averagesize, run, numtimes=30, location=\"/tmp/DATA\"):\n",
    "    offsets, parents, content = get_dataset(averagesize, location=location)\n",
    "    output = numpy.empty(len(offsets) - 1, dtype=numpy.float32)\n",
    "    runtime = run(offsets, parents, content, output, numtimes)\n",
    "    del offsets, parents, content, output\n",
    "    gc.collect()\n",
    "    return tasksize * 1e-6 / runtime   # MHz in number of particles (not events)"
   ]
  },
  {
   "cell_type": "code",
   "execution_count": 12,
   "metadata": {},
   "outputs": [],
   "source": [
    "import pandas\n",
    "\n",
    "sum_rates = pandas.DataFrame(index=averagesizes, columns=[\"sequential\"])\n",
    "max_rates = pandas.DataFrame(index=averagesizes, columns=[\"sequential\"])\n",
    "sum_rates.index.name = \"average number of items per group\"\n",
    "max_rates.index.name = \"average number of items per group\""
   ]
  },
  {
   "cell_type": "code",
   "execution_count": 13,
   "metadata": {},
   "outputs": [],
   "source": [
    "for averagesize in averagesizes:\n",
    "    print(\"sum\", averagesize)\n",
    "    sum_rates.loc[averagesize, \"sequential\"] = measure(averagesize, sequential_sum, numtimes=1)"
   ]
  },
  {
   "cell_type": "code",
   "execution_count": 13,
   "metadata": {},
   "outputs": [
    {
     "name": "stdout",
     "output_type": "stream",
     "text": [
      "sum 0.3\n",
      "sum 0.5\n",
      "sum 1.0\n",
      "sum 2.0\n",
      "sum 3.0\n",
      "sum 5.0\n",
      "sum 10.0\n",
      "sum 20.0\n",
      "sum 30.0\n",
      "sum 50.0\n",
      "sum 100.0\n",
      "sum 200.0\n",
      "sum 300.0\n",
      "sum 500.0\n",
      "sum 1000.0\n",
      "max 0.3\n",
      "max 0.5\n",
      "max 1.0\n",
      "max 2.0\n",
      "max 3.0\n",
      "max 5.0\n",
      "max 10.0\n",
      "max 20.0\n",
      "max 30.0\n",
      "max 50.0\n",
      "max 100.0\n",
      "max 200.0\n",
      "max 300.0\n",
      "max 500.0\n",
      "max 1000.0\n"
     ]
    }
   ],
   "source": [
    "for averagesize in averagesizes:\n",
    "    print(\"max\", averagesize)\n",
    "    max_rates.loc[averagesize, \"sequential\"] = measure(averagesize, sequential_max, numtimes=1)"
   ]
  },
  {
   "cell_type": "code",
   "execution_count": 14,
   "metadata": {},
   "outputs": [],
   "source": [
    "%matplotlib inline"
   ]
  },
  {
   "cell_type": "code",
   "execution_count": 15,
   "metadata": {},
   "outputs": [
    {
     "data": {
      "text/plain": [
       "<matplotlib.axes._subplots.AxesSubplot at 0x7f0b3d8e1550>"
      ]
     },
     "execution_count": 15,
     "metadata": {},
     "output_type": "execute_result"
    },
    {
     "data": {
      "image/png": "[encoded data removed]",
      "text/plain": [
       "<Figure size 432x288 with 1 Axes>"
      ]
     },
     "metadata": {},
     "output_type": "display_data"
    }
   ],
   "source": [
    "sum_rates.plot(logx=True)"
   ]
  },
  {
   "cell_type": "code",
   "execution_count": 16,
   "metadata": {},
   "outputs": [
    {
     "data": {
      "text/plain": [
       "<matplotlib.axes._subplots.AxesSubplot at 0x7f0b3d4ddc18>"
      ]
     },
     "execution_count": 16,
     "metadata": {},
     "output_type": "execute_result"
    },
    {
     "data": {
      "image/png": "[encoded data removed]",
      "text/plain": [
       "<Figure size 432x288 with 1 Axes>"
      ]
     },
     "metadata": {},
     "output_type": "display_data"
    }
   ],
   "source": [
    "max_rates.plot(logx=True)"
   ]
  },
  {
   "cell_type": "markdown",
   "metadata": {},
   "source": [
    "## Sequential algorithm 2: scatter from parents\n",
    "\n",
    "The first sequential algorithm determined which items belong in which group from the `offsets` array, but it could have made that determination from the `parents` array. The `parents` array is aligned with `content` and will be crucial to the vectorized algorithms."
   ]
  },
  {
   "cell_type": "code",
   "execution_count": 17,
   "metadata": {},
   "outputs": [],
   "source": [
    "%%cython --cplus -c-O3 -c-ftree-vectorize\n",
    "\n",
    "from libc.stdint cimport int32_t\n",
    "\n",
    "cdef extern from \"math.h\": pass\n",
    "cdef extern from \"ctime\": pass\n",
    "cdef extern from \"string.h\": pass\n",
    "cdef extern from \"\":\n",
    "    \"\"\"\n",
    "double sequential2_sum_impl(int32_t len_offsets, int32_t len_parents, int32_t* parents,\n",
    "                            float* content, float* output, int32_t numtimes) {\n",
    "    std::clock_t starttime = std::clock();\n",
    "    for (int32_t time = 0;  time < numtimes;  time++) {\n",
    "        memset(output, 0, sizeof(float) * (len_offsets - 1));\n",
    "        int32_t lastparent = -1;\n",
    "        float cumulative = 0.0;\n",
    "        int i;\n",
    "        for (i = 0;  i < len_parents;  i++) {\n",
    "            if (lastparent != -1  &&  lastparent != parents[i]) {\n",
    "                output[lastparent] = cumulative;\n",
    "                cumulative = 0.0;\n",
    "            }\n",
    "            cumulative += content[i];\n",
    "            lastparent = parents[i];\n",
    "        }\n",
    "        if (lastparent != -1) {\n",
    "            output[lastparent] = cumulative;\n",
    "        }\n",
    "    }\n",
    "    return (std::clock() - starttime) / (double)CLOCKS_PER_SEC / (double)numtimes;\n",
    "}\n",
    "\n",
    "double sequential2_max_impl(int32_t len_offsets, int32_t len_parents, int32_t* parents,\n",
    "                          float* content, float* output, int32_t numtimes) {\n",
    "    std::clock_t starttime = std::clock();\n",
    "    for (int32_t time = 0;  time < numtimes;  time++) {\n",
    "        for (int i = 0;  i < len_offsets - 1;  i++) {\n",
    "            output[i] = -INFINITY;\n",
    "        }\n",
    "        int32_t lastparent = -1;\n",
    "        float cumulative = -INFINITY;\n",
    "        int i;\n",
    "        for (i = 0;  i < len_parents;  i++) {\n",
    "            if (lastparent != -1  &&  lastparent != parents[i]) {\n",
    "                output[lastparent] = cumulative;\n",
    "                cumulative = -INFINITY;\n",
    "            }\n",
    "            if (content[i] > cumulative) {\n",
    "                cumulative = content[i];\n",
    "            }\n",
    "            lastparent = parents[i];\n",
    "        }\n",
    "        if (lastparent != -1) {\n",
    "            output[lastparent] = cumulative;\n",
    "        }\n",
    "    }\n",
    "    return (std::clock() - starttime) / (double)CLOCKS_PER_SEC / (double)numtimes;\n",
    "}\n",
    "\"\"\"\n",
    "    double sequential2_sum_impl(int32_t len_offsets, int32_t len_parents, int32_t* parents,\n",
    "                                float* content, float* output, int32_t numtimes)\n",
    "    double sequential2_max_impl(int32_t len_offsets, int32_t len_parents, int32_t* parents,\n",
    "                                float* content, float* output, int32_t numtimes)\n",
    "\n",
    "def sequential2_sum(offsets, parents, content, output, numtimes):\n",
    "    return sequential2_sum_impl(len(offsets),\n",
    "                                len(parents),\n",
    "                                <int32_t*>(<size_t>parents.ctypes.data),\n",
    "                                <float*>(<size_t>content.ctypes.data),\n",
    "                                <float*>(<size_t>output.ctypes.data),\n",
    "                                numtimes)\n",
    "\n",
    "def sequential2_max(offsets, parents, content, output, numtimes):\n",
    "    return sequential2_max_impl(len(offsets),\n",
    "                                len(parents),\n",
    "                                <int32_t*>(<size_t>parents.ctypes.data),\n",
    "                                <float*>(<size_t>content.ctypes.data),\n",
    "                                <float*>(<size_t>output.ctypes.data),\n",
    "                                numtimes)"
   ]
  },
  {
   "cell_type": "markdown",
   "metadata": {},
   "source": [
    "This is a new algorithm, so we must verify its correctness. In general (not this case), different algorithms add numbers in a different order, so we have to allow for small errors due to the non-associativity of floating-point addition."
   ]
  },
  {
   "cell_type": "code",
   "execution_count": 18,
   "metadata": {},
   "outputs": [],
   "source": [
    "import gc\n",
    "def verify_correct(averagesize, run, which, location=\"/tmp/DATA\"):\n",
    "    offsets, parents, content = get_dataset(averagesize, location=location)\n",
    "    output = numpy.empty(len(offsets) - 1, dtype=numpy.float32)\n",
    "    run(offsets, parents, content, output, 1)\n",
    "    original = numpy.fromfile(open(os.path.join(location, \"{}-{}\".format(which, averagesize)), \"rb\"),\n",
    "                              dtype=numpy.float32)\n",
    "    mask1 = numpy.isfinite(output)\n",
    "    mask2 = numpy.isfinite(original)\n",
    "    if not numpy.array_equal(mask1, mask2) or numpy.absolute(output[mask1] - original[mask2]).max() > 0.003:\n",
    "        print(\"averagesize {} {} is not correct\".format(averagesize, which))\n",
    "        return offsets, parents, content, output, original\n",
    "    del offsets, parents, content, output, original\n",
    "    gc.collect()\n",
    "    return None, None, None, None, None"
   ]
  },
  {
   "cell_type": "raw",
   "metadata": {},
   "source": [
    "for averagesize in averagesizes:\n",
    "    offsets, parents, content, output, original = verify_correct(averagesize, sequential2_sum, \"sum\")\n",
    "    if output is not None:\n",
    "        break"
   ]
  },
  {
   "cell_type": "raw",
   "metadata": {},
   "source": [
    "for averagesize in averagesizes:\n",
    "    offsets, parents, content, output, original = verify_correct(averagesize, sequential2_max, \"max\")\n",
    "    if output is not None:\n",
    "        break"
   ]
  },
  {
   "cell_type": "markdown",
   "metadata": {},
   "source": [
    "Now we can measure its performance."
   ]
  },
  {
   "cell_type": "code",
   "execution_count": null,
   "metadata": {},
   "outputs": [],
   "source": [
    "for averagesize in averagesizes:\n",
    "    print(\"sum\", averagesize)\n",
    "    sum_rates.loc[averagesize, \"seq-parents\"] = measure(averagesize, sequential2_sum, numtimes=1)"
   ]
  },
  {
   "cell_type": "code",
   "execution_count": null,
   "metadata": {},
   "outputs": [
    {
     "name": "stdout",
     "output_type": "stream",
     "text": [
      "sum 0.3\n",
      "sum 0.5\n",
      "sum 1.0\n",
      "sum 2.0\n",
      "sum 3.0\n",
      "sum 5.0\n",
      "sum 10.0\n",
      "sum 20.0\n",
      "sum 30.0\n",
      "sum 50.0\n",
      "sum 100.0\n",
      "sum 200.0\n",
      "sum 300.0\n",
      "sum 500.0\n",
      "sum 1000.0\n",
      "max 0.3\n",
      "max 0.5\n",
      "max 1.0\n",
      "max 2.0\n"
     ]
    }
   ],
   "source": [
    "for averagesize in averagesizes:\n",
    "    print(\"max\", averagesize)\n",
    "    max_rates.loc[averagesize, \"seq-parents\"] = measure(averagesize, sequential2_max, numtimes=1)"
   ]
  },
  {
   "cell_type": "code",
   "execution_count": 22,
   "metadata": {},
   "outputs": [
    {
     "data": {
      "text/plain": [
       "<matplotlib.axes._subplots.AxesSubplot at 0x7f0b3d48c2b0>"
      ]
     },
     "execution_count": 22,
     "metadata": {},
     "output_type": "execute_result"
    },
    {
     "data": {
      "image/png": "[encoded data removed]",
      "text/plain": [
       "<Figure size 432x288 with 1 Axes>"
      ]
     },
     "metadata": {},
     "output_type": "display_data"
    }
   ],
   "source": [
    "sum_rates.plot(logx=True)"
   ]
  },
  {
   "cell_type": "code",
   "execution_count": 23,
   "metadata": {},
   "outputs": [
    {
     "data": {
      "text/plain": [
       "<matplotlib.axes._subplots.AxesSubplot at 0x7f0b3d49e278>"
      ]
     },
     "execution_count": 23,
     "metadata": {},
     "output_type": "execute_result"
    },
    {
     "data": {
      "image/png": "[encoded data removed]",
      "text/plain": [
       "<Figure size 432x288 with 1 Axes>"
      ]
     },
     "metadata": {},
     "output_type": "display_data"
    }
   ],
   "source": [
    "max_rates.plot(logx=True)"
   ]
  },
  {
   "cell_type": "markdown",
   "metadata": {},
   "source": [
    "## Vectorized by 16\n",
    "\n",
    "Below, Jaydeep's vectorized jagged reduction is implemented for a vector size of 16 items. Since these are 32-bit integers and floats, that means a 512-bit vector register (AVX-512). The code below won't work on CPUs without AVX-512 instructions. Smaller vector units give less of a speedup because this algorithm approaches the sequential case as the vector size → one item."
   ]
  },
  {
   "cell_type": "code",
   "execution_count": 40,
   "metadata": {},
   "outputs": [],
   "source": [
    "%%cython --cplus -c-O3 -c-ftree-vectorize -c-mavx2 -c-mfma -c-Ivectorclass\n",
    "\n",
    "cdef extern from \"\":\n",
    "    \"#define MAX_VECTOR_SIZE 512\"   # must be defined before including vectorclass\n",
    "\n",
    "from libc.stdint cimport int32_t\n",
    "\n",
    "cdef extern from \"math.h\": pass\n",
    "cdef extern from \"ctime\": pass\n",
    "cdef extern from \"string.h\": pass\n",
    "cdef extern from \"vectorclass.h\":\n",
    "    \"\"\"\n",
    "double vectorized16_sum_impl(int32_t len_offsets, int32_t len_parents, int32_t* parents,\n",
    "                           float* content, float* output, int32_t numtimes) {\n",
    "    std::clock_t starttime = std::clock();\n",
    "    for (int32_t time = 0;  time < numtimes;  time++) {\n",
    "        // memset(output, 0, sizeof(float) * (len_offsets - 1));\n",
    "\n",
    "        Vec16f s;\n",
    "        Vec16f scarry = {0.0, 0.0, 0.0, 0.0, 0.0, 0.0, 0.0, 0.0, 0.0, 0.0, 0.0, 0.0, 0.0, 0.0, 0.0, 0.0};\n",
    "        Vec16i p;\n",
    "        Vec16i pcarry = {-1, -1, -1, -1, -1, -1, -1, -1, -1, -1, -1, -1, -1, -1, -1, -1};\n",
    "\n",
    "        Vec16i p2;\n",
    "        Vec16i p2none = {-1, -1, -1, -1, -1, -1, -1, -1, -1, -1, -1, -1, -1, -1, -1, -1};\n",
    "\n",
    "        for (int i = 0;  i < len_parents;  i += 16) {\n",
    "            s.load(&content[i]);\n",
    "            p.load(&parents[i]);\n",
    "            p2.load(&parents[i + 1]);\n",
    "\n",
    "            s = if_add(p == pcarry, s, scarry);\n",
    "\n",
    "            s = if_add(p == permute16i<-1,  0,  1,  2,  3,  4,  5,  6,  7,  8,  9, 10, 11, 12, 13, 14>(p),\n",
    "                       s,   permute16f<-1,  0,  1,  2,  3,  4,  5,  6,  7,  8,  9, 10, 11, 12, 13, 14>(s));\n",
    "\n",
    "            s = if_add(p == permute16i<-1, -1,  0,  1,  2,  3,  4,  5,  6,  7,  8,  9, 10, 11, 12, 13>(p),\n",
    "                       s,   permute16f<-1, -1,  0,  1,  2,  3,  4,  5,  6,  7,  8,  9, 10, 11, 12, 13>(s));\n",
    "\n",
    "            s = if_add(p == permute16i<-1, -1, -1, -1,  0,  1,  2,  3,  4,  5,  6,  7,  8,  9, 10, 11>(p),\n",
    "                       s,   permute16f<-1, -1, -1, -1,  0,  1,  2,  3,  4,  5,  6,  7,  8,  9, 10, 11>(s));\n",
    "\n",
    "            s = if_add(p == permute16i<-1, -1, -1, -1, -1, -1, -1, -1,  0,  1,  2,  3,  4,  5,  6,  7>(p),\n",
    "                       s,   permute16f<-1, -1, -1, -1, -1, -1, -1, -1,  0,  1,  2,  3,  4,  5,  6,  7>(s));\n",
    "\n",
    "            scarry = blend16f<15, 31, 31, 31, 31, 31, 31, 31, 31, 31, 31, 31, 31, 31, 31, 31>(s, scarry);\n",
    "            pcarry = blend16i<15, 31, 31, 31, 31, 31, 31, 31, 31, 31, 31, 31, 31, 31, 31, 31>(p, pcarry);\n",
    "\n",
    "            scatter(select(p == p2, p2none, p), len_offsets, s, output);\n",
    "        }\n",
    "    }\n",
    "    return (std::clock() - starttime) / (double)CLOCKS_PER_SEC / (double)numtimes;\n",
    "}\n",
    "\n",
    "double vectorized16_max_impl(int32_t len_offsets, int32_t len_parents, int32_t* parents,\n",
    "                           float* content, float* output, int32_t numtimes) {\n",
    "    std::clock_t starttime = std::clock();\n",
    "    for (int32_t time = 0;  time < numtimes;  time++) {\n",
    "        for (int i = 0;  i < len_offsets - 1;  i++) {\n",
    "            output[i] = -INFINITY;\n",
    "        }\n",
    "\n",
    "        Vec16f s;\n",
    "        Vec16f scarry = {-INFINITY, -INFINITY, -INFINITY, -INFINITY, -INFINITY, -INFINITY, -INFINITY, -INFINITY,\n",
    "                         -INFINITY, -INFINITY, -INFINITY, -INFINITY, -INFINITY, -INFINITY, -INFINITY, -INFINITY};\n",
    "        Vec16f szero  = {-INFINITY, -INFINITY, -INFINITY, -INFINITY, -INFINITY, -INFINITY, -INFINITY, -INFINITY,\n",
    "                         -INFINITY, -INFINITY, -INFINITY, -INFINITY, -INFINITY, -INFINITY, -INFINITY, -INFINITY};\n",
    "        Vec16f sblend;\n",
    "        Vec16i p;\n",
    "        Vec16i pcarry = {-1, -1, -1, -1, -1, -1, -1, -1, -1, -1, -1, -1, -1, -1, -1, -1};\n",
    "\n",
    "        Vec16i p2;\n",
    "        Vec16i p2none = {-1, -1, -1, -1, -1, -1, -1, -1, -1, -1, -1, -1, -1, -1, -1, -1};\n",
    "\n",
    "        for (int i = 0;  i < len_parents;  i += 16) {\n",
    "            s.load(&content[i]);\n",
    "            p.load(&parents[i]);\n",
    "            p2.load(&parents[i + 1]);\n",
    "\n",
    "            s = select((p == pcarry) & (scarry > s), scarry, s);\n",
    "\n",
    "            sblend           = blend16f<16,  0,  1,  2,  3,  4,  5,  6,  7,  8,  9, 10, 11, 12, 13, 14>(s, szero);\n",
    "            s = select((p == permute16i<-1,  0,  1,  2,  3,  4,  5,  6,  7,  8,  9, 10, 11, 12, 13, 14>(p)) & (sblend > s), sblend, s);\n",
    "\n",
    "            sblend           = blend16f<16, 16,  0,  1,  2,  3,  4,  5,  6,  7,  8,  9, 10, 11, 12, 13>(s, szero);\n",
    "            s = select((p == permute16i<-1, -1,  0,  1,  2,  3,  4,  5,  6,  7,  8,  9, 10, 11, 12, 13>(p)) & (sblend > s), sblend, s);\n",
    "\n",
    "            sblend           = blend16f<16, 16, 16, 16,  0,  1,  2,  3,  4,  5,  6,  7,  8,  9, 10, 11>(s, szero);\n",
    "            s = select((p == permute16i<-1, -1, -1, -1,  0,  1,  2,  3,  4,  5,  6,  7,  8,  9, 10, 11>(p)) & (sblend > s), sblend, s);\n",
    "\n",
    "            sblend           = blend16f<16, 16, 16, 16, 16, 16, 16, 16,  0,  1,  2,  3,  4,  5,  6,  7>(s, szero);\n",
    "            s = select((p == permute16i<-1, -1, -1, -1, -1, -1, -1, -1,  0,  1,  2,  3,  4,  5,  6,  7>(p)) & (sblend > s), sblend, s);\n",
    "\n",
    "            scarry = blend16f<15, 31, 31, 31, 31, 31, 31, 31, 31, 31, 31, 31, 31, 31, 31, 31>(s, scarry);\n",
    "            pcarry = blend16i<15, 31, 31, 31, 31, 31, 31, 31, 31, 31, 31, 31, 31, 31, 31, 31>(p, pcarry);\n",
    "\n",
    "            scatter(select(p == p2, p2none, p), len_offsets, s, output);\n",
    "        }\n",
    "    }\n",
    "    return (std::clock() - starttime) / (double)CLOCKS_PER_SEC / (double)numtimes;\n",
    "}\n",
    "\"\"\"\n",
    "    double vectorized16_sum_impl(int32_t len_offsets, int32_t len_parents, int32_t* parents,\n",
    "                                 float* content, float* output, int32_t numtimes)\n",
    "    double vectorized16_max_impl(int32_t len_offsets, int32_t len_parents, int32_t* parents,\n",
    "                                 float* content, float* output, int32_t numtimes)\n",
    "\n",
    "def vectorized16_sum(offsets, parents, content, output, numtimes):\n",
    "    return vectorized16_sum_impl(len(offsets),\n",
    "                                 len(parents),\n",
    "                                 <int32_t*>(<size_t>parents.ctypes.data),\n",
    "                                 <float*>(<size_t>content.ctypes.data),\n",
    "                                 <float*>(<size_t>output.ctypes.data),\n",
    "                                 numtimes)\n",
    "\n",
    "def vectorized16_max(offsets, parents, content, output, numtimes):\n",
    "    return vectorized16_max_impl(len(offsets),\n",
    "                                 len(parents),\n",
    "                                 <int32_t*>(<size_t>parents.ctypes.data),\n",
    "                                 <float*>(<size_t>content.ctypes.data),\n",
    "                                 <float*>(<size_t>output.ctypes.data),\n",
    "                                 numtimes)"
   ]
  },
  {
   "cell_type": "raw",
   "metadata": {},
   "source": [
    "for averagesize in averagesizes:\n",
    "    print(averagesize)\n",
    "    offsets, parents, content, output, original = verify_correct(averagesize, vectorized16_sum, \"sum\")\n",
    "    if output is not None:\n",
    "        break"
   ]
  },
  {
   "cell_type": "raw",
   "metadata": {},
   "source": [
    "for averagesize in averagesizes:\n",
    "    print(averagesize)\n",
    "    offsets, parents, content, output, original = verify_correct(averagesize, vectorized16_max, \"max\")\n",
    "    if output is not None:\n",
    "        break"
   ]
  },
  {
   "cell_type": "code",
   "execution_count": 41,
   "metadata": {},
   "outputs": [
    {
     "name": "stdout",
     "output_type": "stream",
     "text": [
      "sum 0.3 367.2567135445378\n",
      "sum 0.5 319.02343099491287\n",
      "sum 1.0 234.7328575767776\n",
      "sum 2.0 237.0990270167228\n",
      "sum 3.0 291.5612551245535\n",
      "sum 5.0 401.15210885663623\n",
      "sum 10.0 595.2473073988049\n",
      "sum 20.0 788.6957811085276\n",
      "sum 30.0 910.2999529374925\n",
      "sum 50.0 1009.3648874255341\n",
      "sum 100.0 1078.1950152888053\n",
      "sum 200.0 1108.8306161439086\n",
      "sum 300.0 1135.29929327619\n",
      "sum 500.0 1157.644563759011\n",
      "sum 1000.0 1157.1033999169201\n"
     ]
    }
   ],
   "source": [
    "for averagesize in averagesizes:\n",
    "    sum_rates.loc[averagesize, \"vectorized (AVX-2)\"] = measure(averagesize, vectorized16_sum, numtimes=10)\n",
    "    print(\"sum\", averagesize, sum_rates.loc[averagesize, \"vectorized (AVX-2)\"])"
   ]
  },
  {
   "cell_type": "raw",
   "metadata": {},
   "source": [
    "for averagesize in averagesizes:\n",
    "    print(\"max\", averagesize)\n",
    "    max_rates.loc[averagesize, \"vectorized (AVX-2)\"] = measure(averagesize, vectorized16_max)"
   ]
  },
  {
   "cell_type": "code",
   "execution_count": 35,
   "metadata": {},
   "outputs": [
    {
     "data": {
      "text/plain": [
       "<matplotlib.axes._subplots.AxesSubplot at 0x7f0b3cfeb668>"
      ]
     },
     "execution_count": 35,
     "metadata": {},
     "output_type": "execute_result"
    },
    {
     "data": {
      "image/png": "[encoded data removed]",
      "text/plain": [
       "<Figure size 432x288 with 1 Axes>"
      ]
     },
     "metadata": {},
     "output_type": "display_data"
    }
   ],
   "source": [
    "sum_rates.plot(logx=True)"
   ]
  },
  {
   "cell_type": "raw",
   "metadata": {},
   "source": [
    "max_rates.plot(logx=True)"
   ]
  },
  {
   "cell_type": "code",
   "execution_count": 27,
   "metadata": {},
   "outputs": [
    {
     "data": {
      "text/html": [
       "<div>\n",
       "<style scoped>\n",
       "    .dataframe tbody tr th:only-of-type {\n",
       "        vertical-align: middle;\n",
       "    }\n",
       "\n",
       "    .dataframe tbody tr th {\n",
       "        vertical-align: top;\n",
       "    }\n",
       "\n",
       "    .dataframe thead th {\n",
       "        text-align: right;\n",
       "    }\n",
       "</style>\n",
       "<table border=\"1\" class=\"dataframe\">\n",
       "  <thead>\n",
       "    <tr style=\"text-align: right;\">\n",
       "      <th></th>\n",
       "      <th>sequential</th>\n",
       "      <th>vectorized (AVX-512)</th>\n",
       "    </tr>\n",
       "    <tr>\n",
       "      <th>average number of items per group</th>\n",
       "      <th></th>\n",
       "      <th></th>\n",
       "    </tr>\n",
       "  </thead>\n",
       "  <tbody>\n",
       "    <tr>\n",
       "      <th>0.3</th>\n",
       "      <td>105.121</td>\n",
       "      <td>319.637886</td>\n",
       "    </tr>\n",
       "    <tr>\n",
       "      <th>0.5</th>\n",
       "      <td>121.625</td>\n",
       "      <td>291.193904</td>\n",
       "    </tr>\n",
       "    <tr>\n",
       "      <th>1.0</th>\n",
       "      <td>173.163</td>\n",
       "      <td>230.348127</td>\n",
       "    </tr>\n",
       "    <tr>\n",
       "      <th>2.0</th>\n",
       "      <td>273.16</td>\n",
       "      <td>231.619707</td>\n",
       "    </tr>\n",
       "    <tr>\n",
       "      <th>3.0</th>\n",
       "      <td>362.412</td>\n",
       "      <td>285.553186</td>\n",
       "    </tr>\n",
       "    <tr>\n",
       "      <th>5.0</th>\n",
       "      <td>524.554</td>\n",
       "      <td>397.198448</td>\n",
       "    </tr>\n",
       "    <tr>\n",
       "      <th>10.0</th>\n",
       "      <td>823.082</td>\n",
       "      <td>586.668539</td>\n",
       "    </tr>\n",
       "    <tr>\n",
       "      <th>20.0</th>\n",
       "      <td>1179.05</td>\n",
       "      <td>778.921252</td>\n",
       "    </tr>\n",
       "    <tr>\n",
       "      <th>30.0</th>\n",
       "      <td>1376.65</td>\n",
       "      <td>895.323289</td>\n",
       "    </tr>\n",
       "    <tr>\n",
       "      <th>50.0</th>\n",
       "      <td>1327.9</td>\n",
       "      <td>993.992634</td>\n",
       "    </tr>\n",
       "    <tr>\n",
       "      <th>100.0</th>\n",
       "      <td>1124.66</td>\n",
       "      <td>1067.566948</td>\n",
       "    </tr>\n",
       "    <tr>\n",
       "      <th>200.0</th>\n",
       "      <td>1049.96</td>\n",
       "      <td>1107.651484</td>\n",
       "    </tr>\n",
       "    <tr>\n",
       "      <th>300.0</th>\n",
       "      <td>1006.44</td>\n",
       "      <td>1118.581292</td>\n",
       "    </tr>\n",
       "    <tr>\n",
       "      <th>500.0</th>\n",
       "      <td>1011.04</td>\n",
       "      <td>1129.895116</td>\n",
       "    </tr>\n",
       "    <tr>\n",
       "      <th>1000.0</th>\n",
       "      <td>1005.41</td>\n",
       "      <td>1132.097635</td>\n",
       "    </tr>\n",
       "  </tbody>\n",
       "</table>\n",
       "</div>"
      ],
      "text/plain": [
       "                                  sequential  vectorized (AVX-512)\n",
       "average number of items per group                                 \n",
       "0.3                                  105.121            319.637886\n",
       "0.5                                  121.625            291.193904\n",
       "1.0                                  173.163            230.348127\n",
       "2.0                                   273.16            231.619707\n",
       "3.0                                  362.412            285.553186\n",
       "5.0                                  524.554            397.198448\n",
       "10.0                                 823.082            586.668539\n",
       "20.0                                 1179.05            778.921252\n",
       "30.0                                 1376.65            895.323289\n",
       "50.0                                  1327.9            993.992634\n",
       "100.0                                1124.66           1067.566948\n",
       "200.0                                1049.96           1107.651484\n",
       "300.0                                1006.44           1118.581292\n",
       "500.0                                1011.04           1129.895116\n",
       "1000.0                               1005.41           1132.097635"
      ]
     },
     "execution_count": 27,
     "metadata": {},
     "output_type": "execute_result"
    }
   ],
   "source": [
    "sum_rates"
   ]
  },
  {
   "cell_type": "code",
   "execution_count": null,
   "metadata": {},
   "outputs": [],
   "source": []
  }
 ],
 "metadata": {
  "kernelspec": {
   "display_name": "Python 3",
   "language": "python",
   "name": "python3"
  },
  "language_info": {
   "codemirror_mode": {
    "name": "ipython",
    "version": 3
   },
   "file_extension": ".py",
   "mimetype": "text/x-python",
   "name": "python",
   "nbconvert_exporter": "python",
   "pygments_lexer": "ipython3",
   "version": "3.6.5"
  }
 },
 "nbformat": 4,
 "nbformat_minor": 2
}
