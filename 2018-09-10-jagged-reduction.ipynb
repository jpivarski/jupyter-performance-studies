{
 "cells": [
  {
   "cell_type": "markdown",
   "metadata": {},
   "source": [
    "# Jagged reduction\n",
    "\n",
    "Given a jagged array, we want to compute a reduction (e.g. `sum` or `max`) as quickly as possible. We'll study the naive sequential algorithm, Jaydeep's modified Hillis-Steele on GPU and AVX-512. As a further modification, we replace the offsets-driven gather with a parents-driven scatter, since the extra pass gather was found to be dominant over the reduction itself."
   ]
  },
  {
   "cell_type": "markdown",
   "metadata": {},
   "source": [
    "## First step: prepare data\n",
    "\n",
    "The jagged datasets are Gaussian random numbers in Poisson-distributed groups, a different dataset for each Poisson-average group size. To make debugging easier, the Gaussian numbers will be 1 +- 0.01 (the sum will always be approximately equal to the count), and there will be 15 samples with logarithmically spaced Poisson-averages:\n",
    "\n",
    "    0.3 0.5 1.0 2.0 3.0 5.0 10.0 20.0 30.0 50.0 100.0 200.0 300.0 500.0 1000.0\n",
    "\n",
    "This is about 20 GB (15 GB inputs + 5 GB outputs), and we'll cache them on disk (in `/tmp/DATA`)."
   ]
  },
  {
   "cell_type": "code",
   "execution_count": 1,
   "metadata": {},
   "outputs": [],
   "source": [
    "import numpy\n",
    "import os"
   ]
  },
  {
   "cell_type": "code",
   "execution_count": 2,
   "metadata": {},
   "outputs": [],
   "source": [
    "tasksize = 100000000\n",
    "\n",
    "def make_dataset(averagesize, location=\"/tmp/DATA\"):\n",
    "    if not os.path.exists(location):\n",
    "        os.mkdir(location)\n",
    "    counts = numpy.random.poisson(averagesize, int(numpy.ceil(tasksize / averagesize)))\n",
    "    offsets = numpy.empty(len(counts) + 1, dtype=numpy.int32)\n",
    "    offsets[0] = 0\n",
    "    numpy.cumsum(counts, out=offsets[1:])\n",
    "    del counts\n",
    "    with open(os.path.join(location, \"offsets-{}\".format(averagesize)), \"wb\") as f:\n",
    "        offsets.tofile(f)\n",
    "\n",
    "    parents = numpy.zeros(offsets[-1], dtype=numpy.int32)\n",
    "    numpy.add.at(parents, offsets[offsets != offsets[-1]][1:], 1)\n",
    "    numpy.cumsum(parents, out=parents)\n",
    "    with open(os.path.join(location, \"parents-{}\".format(averagesize)), \"wb\") as f:\n",
    "        parents.tofile(f)\n",
    "    del parents\n",
    "    \n",
    "    content = numpy.random.normal(1, 0.01, offsets[-1]).astype(numpy.float32)\n",
    "    with open(os.path.join(location, \"content-{}\".format(averagesize)), \"wb\") as f:\n",
    "        content.tofile(f)\n",
    "    del content\n",
    "    del offsets\n",
    "\n",
    "averagesizes = 0.3, 0.5, 1.0, 2.0, 3.0, 5.0, 10.0, 20.0, 30.0, 50.0, 100.0, 200.0, 300.0, 500.0, 1000.0"
   ]
  },
  {
   "cell_type": "raw",
   "metadata": {},
   "source": [
    "for averagesize in averagesizes:\n",
    "    print(averagesize)\n",
    "    make_dataset(averagesize)"
   ]
  },
  {
   "cell_type": "code",
   "execution_count": 3,
   "metadata": {},
   "outputs": [],
   "source": [
    "def get_dataset(averagesize, location=\"/tmp/DATA\"):\n",
    "    offsets = numpy.fromfile(open(os.path.join(location, \"offsets-{}\".format(averagesize))),\n",
    "                             dtype=numpy.int32)\n",
    "    parents = numpy.fromfile(open(os.path.join(location, \"parents-{}\".format(averagesize))),\n",
    "                             dtype=numpy.int32)\n",
    "    content = numpy.fromfile(open(os.path.join(location, \"content-{}\".format(averagesize))),\n",
    "                             dtype=numpy.float32)\n",
    "    return offsets, parents, content"
   ]
  },
  {
   "cell_type": "markdown",
   "metadata": {},
   "source": [
    "## Sequential algorithm\n",
    "\n",
    "This is the natural algorithm, stepping through jagged subcollections in a doubly nested for loop. We also use it to define the \"correct\" output. We'll study two such algorithms, `sum` and `max`.\n",
    "\n",
    "The `-O3` optimization and `-ftree-vectorize` flags are on, though this loop can't be vectorized because of the loop-carried dependency."
   ]
  },
  {
   "cell_type": "code",
   "execution_count": 4,
   "metadata": {},
   "outputs": [],
   "source": [
    "%load_ext Cython"
   ]
  },
  {
   "cell_type": "code",
   "execution_count": 5,
   "metadata": {},
   "outputs": [],
   "source": [
    "%%cython --cplus -c-O3 -c-ftree-vectorize\n",
    "\n",
    "from libc.stdint cimport int32_t\n",
    "\n",
    "cdef extern from \"math.h\": pass\n",
    "cdef extern from \"\":\n",
    "    \"\"\"\n",
    "void sequential_sum_impl(int32_t len_offsets, int32_t* offsets, float* content, float* output) {\n",
    "    for (int32_t i = 0;  i < len_offsets - 1;  i++) {\n",
    "        output[i] = 0.0;\n",
    "        for (int j = offsets[i];  j < offsets[i + 1];  j++) {\n",
    "            output[i] += content[j];\n",
    "        }\n",
    "    }\n",
    "}\n",
    "\n",
    "void sequential_max_impl(int32_t len_offsets, int32_t* offsets, float* content, float* output) {\n",
    "    for (int32_t i = 0;  i < len_offsets - 1;  i++) {\n",
    "        output[i] = -INFINITY;\n",
    "        for (int j = offsets[i];  j < offsets[i + 1];  j++) {\n",
    "            if (content[j] > output[i]) {\n",
    "                output[i] = content[j];\n",
    "            }\n",
    "        }\n",
    "    }\n",
    "}\n",
    "\"\"\"\n",
    "    void sequential_sum_impl(int32_t len_offsets, int32_t* offsets, float* content, float* output)\n",
    "    void sequential_max_impl(int32_t len_offsets, int32_t* offsets, float* content, float* output)\n",
    "\n",
    "def sequential_sum(offsets, parents, content, output):\n",
    "    sequential_sum_impl(len(offsets),\n",
    "                        <int32_t*>(<size_t>offsets.ctypes.data),\n",
    "                        <float*>(<size_t>content.ctypes.data),\n",
    "                        <float*>(<size_t>output.ctypes.data))\n",
    "\n",
    "def sequential_max(offsets, parents, content, output):\n",
    "    sequential_max_impl(len(offsets),\n",
    "                        <int32_t*>(<size_t>offsets.ctypes.data),\n",
    "                        <float*>(<size_t>content.ctypes.data),\n",
    "                        <float*>(<size_t>output.ctypes.data))"
   ]
  },
  {
   "cell_type": "code",
   "execution_count": 6,
   "metadata": {},
   "outputs": [],
   "source": [
    "import gc\n",
    "def define_correct(averagesize, location=\"/tmp/DATA\"):\n",
    "    offsets, parents, content = get_dataset(averagesize, location=location)\n",
    "    output = numpy.empty(len(offsets) - 1, dtype=numpy.float32)\n",
    "    sequential_sum(offsets, parents, content, output)\n",
    "    with open(os.path.join(location, \"sum-{}\".format(averagesize)), \"wb\") as f:\n",
    "        output.tofile(f)\n",
    "    sequential_max(offsets, parents, content, output)\n",
    "    with open(os.path.join(location, \"max-{}\".format(averagesize)), \"wb\") as f:\n",
    "        output.tofile(f)\n",
    "    del offsets, parents, content, output\n",
    "    gc.collect()"
   ]
  },
  {
   "cell_type": "raw",
   "metadata": {},
   "source": [
    "for averagesize in averagesizes:\n",
    "    print(averagesize)\n",
    "    define_correct(averagesize)"
   ]
  },
  {
   "cell_type": "markdown",
   "metadata": {},
   "source": [
    "## Measure time\n",
    "\n",
    "We'll use wall time of 10 repetitions, not counting data-loading or memory allocation."
   ]
  },
  {
   "cell_type": "code",
   "execution_count": 7,
   "metadata": {},
   "outputs": [],
   "source": [
    "import time\n",
    "\n",
    "def measure(averagesize, run, numtimes=10, location=\"/tmp/DATA\"):\n",
    "    offsets, parents, content = get_dataset(averagesize, location=location)\n",
    "    output = numpy.empty(len(offsets) - 1, dtype=numpy.float32)\n",
    "    starttime = time.time()\n",
    "    for i in range(numtimes):\n",
    "        run(offsets, parents, content, output)\n",
    "    runtime = time.time() - starttime\n",
    "    del offsets, parents, content, output\n",
    "    gc.collect()\n",
    "    return tasksize * numtimes * 1e-6 / runtime   # MHz in number of particles (not events)"
   ]
  },
  {
   "cell_type": "code",
   "execution_count": 8,
   "metadata": {},
   "outputs": [],
   "source": [
    "import pandas\n",
    "\n",
    "sum_rates = pandas.DataFrame(index=averagesizes, columns=[\"sequential\"])\n",
    "max_rates = pandas.DataFrame(index=averagesizes, columns=[\"sequential\"])\n",
    "sum_rates.index.name = \"average number of items per group\"\n",
    "max_rates.index.name = \"average number of items per group\""
   ]
  },
  {
   "cell_type": "code",
   "execution_count": 9,
   "metadata": {},
   "outputs": [
    {
     "name": "stdout",
     "output_type": "stream",
     "text": [
      "sum 0.3\n",
      "sum 0.5\n",
      "sum 1.0\n",
      "sum 2.0\n",
      "sum 3.0\n",
      "sum 5.0\n",
      "sum 10.0\n",
      "sum 20.0\n",
      "sum 30.0\n",
      "sum 50.0\n",
      "sum 100.0\n",
      "sum 200.0\n",
      "sum 300.0\n",
      "sum 500.0\n",
      "sum 1000.0\n"
     ]
    }
   ],
   "source": [
    "for averagesize in averagesizes:\n",
    "    print(\"sum\", averagesize)\n",
    "    sum_rates.loc[averagesize, \"sequential\"] = measure(averagesize, sequential_sum)"
   ]
  },
  {
   "cell_type": "code",
   "execution_count": 10,
   "metadata": {},
   "outputs": [
    {
     "name": "stdout",
     "output_type": "stream",
     "text": [
      "max 0.3\n",
      "max 0.5\n",
      "max 1.0\n",
      "max 2.0\n",
      "max 3.0\n",
      "max 5.0\n",
      "max 10.0\n",
      "max 20.0\n",
      "max 30.0\n",
      "max 50.0\n",
      "max 100.0\n",
      "max 200.0\n",
      "max 300.0\n",
      "max 500.0\n",
      "max 1000.0\n"
     ]
    }
   ],
   "source": [
    "for averagesize in averagesizes:\n",
    "    print(\"max\", averagesize)\n",
    "    max_rates.loc[averagesize, \"sequential\"] = measure(averagesize, sequential_max)"
   ]
  },
  {
   "cell_type": "code",
   "execution_count": 11,
   "metadata": {},
   "outputs": [],
   "source": [
    "%matplotlib inline"
   ]
  },
  {
   "cell_type": "code",
   "execution_count": 12,
   "metadata": {},
   "outputs": [
    {
     "data": {
      "text/plain": [
       "<matplotlib.axes._subplots.AxesSubplot at 0x7f39bf42e898>"
      ]
     },
     "execution_count": 12,
     "metadata": {},
     "output_type": "execute_result"
    },
    {
     "data": {
      "image/png": "[encoded data removed]",
      "text/plain": [
       "<Figure size 432x288 with 1 Axes>"
      ]
     },
     "metadata": {
      "needs_background": "light"
     },
     "output_type": "display_data"
    }
   ],
   "source": [
    "sum_rates.plot(logx=True)"
   ]
  },
  {
   "cell_type": "code",
   "execution_count": 13,
   "metadata": {},
   "outputs": [
    {
     "data": {
      "text/plain": [
       "<matplotlib.axes._subplots.AxesSubplot at 0x7f39bf041668>"
      ]
     },
     "execution_count": 13,
     "metadata": {},
     "output_type": "execute_result"
    },
    {
     "data": {
      "image/png": "[encoded data removed]",
      "text/plain": [
       "<Figure size 432x288 with 1 Axes>"
      ]
     },
     "metadata": {
      "needs_background": "light"
     },
     "output_type": "display_data"
    }
   ],
   "source": [
    "max_rates.plot(logx=True)"
   ]
  },
  {
   "cell_type": "markdown",
   "metadata": {},
   "source": [
    "## Sequential algorithm 2: scatter from parents\n",
    "\n",
    "The first sequential algorithm determined which items belong in which group from the `offsets` array, but it could have made that determination from the `parents` array. The `parents` array is aligned with `content` and will be crucial to the vectorized algorithms."
   ]
  },
  {
   "cell_type": "code",
   "execution_count": 14,
   "metadata": {},
   "outputs": [],
   "source": [
    "%%cython --cplus -c-O3 -c-ftree-vectorize\n",
    "\n",
    "from libc.stdint cimport int32_t\n",
    "\n",
    "cdef extern from \"math.h\": pass\n",
    "cdef extern from \"string.h\": pass\n",
    "cdef extern from \"\":\n",
    "    \"\"\"\n",
    "void sequential2_sum_impl(int32_t len_offsets, int32_t len_parents, int32_t* parents, float* content, float* output) {\n",
    "    memset(output, 0, sizeof(float) * (len_offsets - 1));\n",
    "    int32_t lastparent = -1;\n",
    "    float cumulative = 0.0;\n",
    "    int i;\n",
    "    for (i = 0;  i < len_parents;  i++) {\n",
    "        if (lastparent != -1  &&  lastparent != parents[i]) {\n",
    "            output[lastparent] = cumulative;\n",
    "            cumulative = 0.0;\n",
    "        }\n",
    "        cumulative += content[i];\n",
    "        lastparent = parents[i];\n",
    "    }\n",
    "    if (lastparent != -1) {\n",
    "        output[lastparent] = cumulative;\n",
    "    }\n",
    "}\n",
    "\n",
    "void sequential2_max_impl(int32_t len_offsets, int32_t len_parents, int32_t* parents, float* content, float* output) {\n",
    "    for (int i = 0;  i < len_offsets - 1;  i++) {\n",
    "        output[i] = -INFINITY;\n",
    "    }\n",
    "    int32_t lastparent = -1;\n",
    "    float cumulative = -INFINITY;\n",
    "    int i;\n",
    "    for (i = 0;  i < len_parents;  i++) {\n",
    "        if (lastparent != -1  &&  lastparent != parents[i]) {\n",
    "            output[lastparent] = cumulative;\n",
    "            cumulative = -INFINITY;\n",
    "        }\n",
    "        if (content[i] > cumulative) {\n",
    "            cumulative = content[i];\n",
    "        }\n",
    "        lastparent = parents[i];\n",
    "    }\n",
    "    if (lastparent != -1) {\n",
    "        output[lastparent] = cumulative;\n",
    "    }\n",
    "}\n",
    "\"\"\"\n",
    "    void sequential2_sum_impl(int32_t len_offsets, int32_t len_parents, int32_t* parents, float* content, float* output)\n",
    "    void sequential2_max_impl(int32_t len_offsets, int32_t len_parents, int32_t* parents, float* content, float* output)\n",
    "\n",
    "def sequential2_sum(offsets, parents, content, output):\n",
    "    sequential2_sum_impl(len(offsets),\n",
    "                         len(parents),\n",
    "                         <int32_t*>(<size_t>parents.ctypes.data),\n",
    "                         <float*>(<size_t>content.ctypes.data),\n",
    "                         <float*>(<size_t>output.ctypes.data))\n",
    "\n",
    "def sequential2_max(offsets, parents, content, output):\n",
    "    sequential2_max_impl(len(offsets),\n",
    "                         len(parents),\n",
    "                         <int32_t*>(<size_t>parents.ctypes.data),\n",
    "                         <float*>(<size_t>content.ctypes.data),\n",
    "                         <float*>(<size_t>output.ctypes.data))"
   ]
  },
  {
   "cell_type": "markdown",
   "metadata": {},
   "source": [
    "This is a new algorithm, so we must verify its correctness. In general (not this case), different algorithms add numbers in a different order, so we have to allow for small errors due to the non-associativity of floating-point addition."
   ]
  },
  {
   "cell_type": "code",
   "execution_count": 15,
   "metadata": {},
   "outputs": [],
   "source": [
    "import gc\n",
    "def verify_correct(averagesize, run, which, location=\"/tmp/DATA\"):\n",
    "    offsets, parents, content = get_dataset(averagesize, location=location)\n",
    "    output = numpy.empty(len(offsets) - 1, dtype=numpy.float32)\n",
    "    run(offsets, parents, content, output)\n",
    "    original = numpy.fromfile(open(os.path.join(location, \"{}-{}\".format(which, averagesize)), \"rb\"),\n",
    "                              dtype=numpy.float32)\n",
    "    mask1 = numpy.isfinite(output)\n",
    "    mask2 = numpy.isfinite(original)\n",
    "    if not numpy.array_equal(mask1, mask2) or numpy.absolute(output[mask1] - original[mask2]).max() > 0.003:\n",
    "        print(\"averagesize {} {} is not correct\".format(averagesize, which))\n",
    "        return offsets, parents, content, output, original\n",
    "    del offsets, parents, content, output, original\n",
    "    gc.collect()\n",
    "    return None, None, None, None, None"
   ]
  },
  {
   "cell_type": "raw",
   "metadata": {},
   "source": [
    "for averagesize in averagesizes:\n",
    "    offsets, parents, content, output, original = verify_correct(averagesize, sequential2_sum, \"sum\")\n",
    "    if output is not None:\n",
    "        break"
   ]
  },
  {
   "cell_type": "raw",
   "metadata": {},
   "source": [
    "for averagesize in averagesizes:\n",
    "    offsets, parents, content, output, original = verify_correct(averagesize, sequential2_max, \"max\")\n",
    "    if output is not None:\n",
    "        break"
   ]
  },
  {
   "cell_type": "markdown",
   "metadata": {},
   "source": [
    "Now we can measure its performance."
   ]
  },
  {
   "cell_type": "code",
   "execution_count": 16,
   "metadata": {},
   "outputs": [
    {
     "name": "stdout",
     "output_type": "stream",
     "text": [
      "sum 0.3\n",
      "sum 0.5\n",
      "sum 1.0\n",
      "sum 2.0\n",
      "sum 3.0\n",
      "sum 5.0\n",
      "sum 10.0\n",
      "sum 20.0\n",
      "sum 30.0\n",
      "sum 50.0\n",
      "sum 100.0\n",
      "sum 200.0\n",
      "sum 300.0\n",
      "sum 500.0\n",
      "sum 1000.0\n"
     ]
    }
   ],
   "source": [
    "for averagesize in averagesizes:\n",
    "    print(\"sum\", averagesize)\n",
    "    sum_rates.loc[averagesize, \"sequential-parents\"] = measure(averagesize, sequential2_sum)"
   ]
  },
  {
   "cell_type": "code",
   "execution_count": 17,
   "metadata": {},
   "outputs": [
    {
     "name": "stdout",
     "output_type": "stream",
     "text": [
      "max 0.3\n",
      "max 0.5\n",
      "max 1.0\n",
      "max 2.0\n",
      "max 3.0\n",
      "max 5.0\n",
      "max 10.0\n",
      "max 20.0\n",
      "max 30.0\n",
      "max 50.0\n",
      "max 100.0\n",
      "max 200.0\n",
      "max 300.0\n",
      "max 500.0\n",
      "max 1000.0\n"
     ]
    }
   ],
   "source": [
    "for averagesize in averagesizes:\n",
    "    print(\"max\", averagesize)\n",
    "    max_rates.loc[averagesize, \"sequential-parents\"] = measure(averagesize, sequential2_max)"
   ]
  },
  {
   "cell_type": "code",
   "execution_count": 18,
   "metadata": {},
   "outputs": [
    {
     "data": {
      "text/plain": [
       "<matplotlib.axes._subplots.AxesSubplot at 0x7f39bf0f0d30>"
      ]
     },
     "execution_count": 18,
     "metadata": {},
     "output_type": "execute_result"
    },
    {
     "data": {
      "image/png": "[encoded data removed]",
      "text/plain": [
       "<Figure size 432x288 with 1 Axes>"
      ]
     },
     "metadata": {
      "needs_background": "light"
     },
     "output_type": "display_data"
    }
   ],
   "source": [
    "sum_rates.plot(logx=True)"
   ]
  },
  {
   "cell_type": "code",
   "execution_count": 19,
   "metadata": {},
   "outputs": [
    {
     "data": {
      "text/plain": [
       "<matplotlib.axes._subplots.AxesSubplot at 0x7f39bec79dd8>"
      ]
     },
     "execution_count": 19,
     "metadata": {},
     "output_type": "execute_result"
    },
    {
     "data": {
      "image/png": "[encoded data removed]",
      "text/plain": [
       "<Figure size 432x288 with 1 Axes>"
      ]
     },
     "metadata": {
      "needs_background": "light"
     },
     "output_type": "display_data"
    }
   ],
   "source": [
    "max_rates.plot(logx=True)"
   ]
  },
  {
   "cell_type": "markdown",
   "metadata": {},
   "source": [
    "## Vectorized by 16\n",
    "\n",
    "Below, Jaydeep's vectorized jagged reduction is implemented for a vector size of 16 items. Since these are 32-bit integers and floats, that means a 512-bit vector register (AVX-512). The code below will be _emulated_ on CPUs without AVX-512 instructions. Smaller vector units give less of a speedup because this algorithm approaches the sequential case as the vector size → one item."
   ]
  },
  {
   "cell_type": "code",
   "execution_count": 20,
   "metadata": {},
   "outputs": [],
   "source": [
    "%%cython --cplus -c-O3 -c-ftree-vectorize -c-mavx512f -c-mfma -c-Ivectorclass\n",
    "\n",
    "cdef extern from \"\":\n",
    "    \"#define MAX_VECTOR_SIZE 512\"   # must be defined before including vectorclass\n",
    "\n",
    "from libc.stdint cimport int32_t\n",
    "\n",
    "cdef extern from \"math.h\": pass\n",
    "cdef extern from \"string.h\": pass\n",
    "cdef extern from \"vectorclass.h\":\n",
    "    \"\"\"\n",
    "void vectorized16_sum_impl(int32_t len_offsets, int32_t len_parents, int32_t* parents, float* content, float* output) {\n",
    "    memset(output, 0, sizeof(float) * (len_offsets - 1));\n",
    "\n",
    "    Vec16f s;\n",
    "    Vec16f scarry = {0.0, 0.0, 0.0, 0.0, 0.0, 0.0, 0.0, 0.0, 0.0, 0.0, 0.0, 0.0, 0.0, 0.0, 0.0, 0.0};\n",
    "    Vec16i p;\n",
    "    Vec16i pcarry = {-1, -1, -1, -1, -1, -1, -1, -1, -1, -1, -1, -1, -1, -1, -1, -1};\n",
    "\n",
    "    Vec16i p2;\n",
    "    Vec16i p2none = {-1, -1, -1, -1, -1, -1, -1, -1, -1, -1, -1, -1, -1, -1, -1, -1};\n",
    "\n",
    "    for (int i = 0;  i < len_parents;  i += 16) {\n",
    "        s.load(&content[i]);\n",
    "        p.load(&parents[i]);\n",
    "        p2.load(&parents[i + 1]);\n",
    "\n",
    "        s = if_add(p == pcarry, s, scarry);\n",
    "\n",
    "        s = if_add(p == permute16i<-1,  0,  1,  2,  3,  4,  5,  6,  7,  8,  9, 10, 11, 12, 13, 14>(p),\n",
    "                   s,   permute16f<-1,  0,  1,  2,  3,  4,  5,  6,  7,  8,  9, 10, 11, 12, 13, 14>(s));\n",
    "\n",
    "        s = if_add(p == permute16i<-1, -1,  0,  1,  2,  3,  4,  5,  6,  7,  8,  9, 10, 11, 12, 13>(p),\n",
    "                   s,   permute16f<-1, -1,  0,  1,  2,  3,  4,  5,  6,  7,  8,  9, 10, 11, 12, 13>(s));\n",
    "\n",
    "        s = if_add(p == permute16i<-1, -1, -1, -1,  0,  1,  2,  3,  4,  5,  6,  7,  8,  9, 10, 11>(p),\n",
    "                   s,   permute16f<-1, -1, -1, -1,  0,  1,  2,  3,  4,  5,  6,  7,  8,  9, 10, 11>(s));\n",
    "\n",
    "        s = if_add(p == permute16i<-1, -1, -1, -1, -1, -1, -1, -1,  0,  1,  2,  3,  4,  5,  6,  7>(p),\n",
    "                   s,   permute16f<-1, -1, -1, -1, -1, -1, -1, -1,  0,  1,  2,  3,  4,  5,  6,  7>(s));\n",
    "\n",
    "        scarry = blend16f<15, 31, 31, 31, 31, 31, 31, 31, 31, 31, 31, 31, 31, 31, 31, 31>(s, scarry);\n",
    "        pcarry = blend16i<15, 31, 31, 31, 31, 31, 31, 31, 31, 31, 31, 31, 31, 31, 31, 31>(p, pcarry);\n",
    "\n",
    "        scatter(select(p == p2, p2none, p), len_offsets, s, output);\n",
    "    }\n",
    "}\n",
    "\n",
    "void vectorized16_max_impl(int32_t len_offsets, int32_t len_parents, int32_t* parents, float* content, float* output) {\n",
    "    for (int i = 0;  i < len_offsets - 1;  i++) {\n",
    "        output[i] = -INFINITY;\n",
    "    }\n",
    "\n",
    "    Vec16f s;\n",
    "    Vec16f scarry = {-INFINITY, -INFINITY, -INFINITY, -INFINITY, -INFINITY, -INFINITY, -INFINITY, -INFINITY,\n",
    "                     -INFINITY, -INFINITY, -INFINITY, -INFINITY, -INFINITY, -INFINITY, -INFINITY, -INFINITY};\n",
    "    Vec16f szero  = {-INFINITY, -INFINITY, -INFINITY, -INFINITY, -INFINITY, -INFINITY, -INFINITY, -INFINITY,\n",
    "                     -INFINITY, -INFINITY, -INFINITY, -INFINITY, -INFINITY, -INFINITY, -INFINITY, -INFINITY};\n",
    "    Vec16f sblend;\n",
    "    Vec16i p;\n",
    "    Vec16i pcarry = {-1, -1, -1, -1, -1, -1, -1, -1, -1, -1, -1, -1, -1, -1, -1, -1};\n",
    "\n",
    "    Vec16i p2;\n",
    "    Vec16i p2none = {-1, -1, -1, -1, -1, -1, -1, -1, -1, -1, -1, -1, -1, -1, -1, -1};\n",
    "\n",
    "    for (int i = 0;  i < len_parents;  i += 16) {\n",
    "        s.load(&content[i]);\n",
    "        p.load(&parents[i]);\n",
    "        p2.load(&parents[i + 1]);\n",
    "\n",
    "        s = select((p == pcarry) & (scarry > s), scarry, s);\n",
    "\n",
    "        sblend           = blend16f<16,  0,  1,  2,  3,  4,  5,  6,  7,  8,  9, 10, 11, 12, 13, 14>(s, szero);\n",
    "        s = select((p == permute16i<-1,  0,  1,  2,  3,  4,  5,  6,  7,  8,  9, 10, 11, 12, 13, 14>(p)) & (sblend > s), sblend, s);\n",
    "\n",
    "        sblend           = blend16f<16, 16,  0,  1,  2,  3,  4,  5,  6,  7,  8,  9, 10, 11, 12, 13>(s, szero);\n",
    "        s = select((p == permute16i<-1, -1,  0,  1,  2,  3,  4,  5,  6,  7,  8,  9, 10, 11, 12, 13>(p)) & (sblend > s), sblend, s);\n",
    "\n",
    "        sblend           = blend16f<16, 16, 16, 16,  0,  1,  2,  3,  4,  5,  6,  7,  8,  9, 10, 11>(s, szero);\n",
    "        s = select((p == permute16i<-1, -1, -1, -1,  0,  1,  2,  3,  4,  5,  6,  7,  8,  9, 10, 11>(p)) & (sblend > s), sblend, s);\n",
    "\n",
    "        sblend           = blend16f<16, 16, 16, 16, 16, 16, 16, 16,  0,  1,  2,  3,  4,  5,  6,  7>(s, szero);\n",
    "        s = select((p == permute16i<-1, -1, -1, -1, -1, -1, -1, -1,  0,  1,  2,  3,  4,  5,  6,  7>(p)) & (sblend > s), sblend, s);\n",
    "\n",
    "        scarry = blend16f<15, 31, 31, 31, 31, 31, 31, 31, 31, 31, 31, 31, 31, 31, 31, 31>(s, scarry);\n",
    "        pcarry = blend16i<15, 31, 31, 31, 31, 31, 31, 31, 31, 31, 31, 31, 31, 31, 31, 31>(p, pcarry);\n",
    "\n",
    "        scatter(select(p == p2, p2none, p), len_offsets, s, output);\n",
    "    }\n",
    "}\n",
    "\"\"\"\n",
    "    void vectorized16_sum_impl(int32_t len_offsets, int32_t len_parents, int32_t* parents, float* content, float* output)\n",
    "    void vectorized16_max_impl(int32_t len_offsets, int32_t len_parents, int32_t* parents, float* content, float* output)\n",
    "\n",
    "def vectorized16_sum(offsets, parents, content, output):\n",
    "    vectorized16_sum_impl(len(offsets),\n",
    "                          len(parents),\n",
    "                          <int32_t*>(<size_t>parents.ctypes.data),\n",
    "                          <float*>(<size_t>content.ctypes.data),\n",
    "                          <float*>(<size_t>output.ctypes.data))\n",
    "\n",
    "def vectorized16_max(offsets, parents, content, output):\n",
    "    vectorized16_max_impl(len(offsets),\n",
    "                          len(parents),\n",
    "                          <int32_t*>(<size_t>parents.ctypes.data),\n",
    "                          <float*>(<size_t>content.ctypes.data),\n",
    "                          <float*>(<size_t>output.ctypes.data))"
   ]
  },
  {
   "cell_type": "raw",
   "metadata": {},
   "source": [
    "for averagesize in averagesizes:\n",
    "    print(averagesize)\n",
    "    offsets, parents, content, output, original = verify_correct(averagesize, vectorized16_sum, \"sum\")\n",
    "    if output is not None:\n",
    "        break"
   ]
  },
  {
   "cell_type": "raw",
   "metadata": {},
   "source": [
    "for averagesize in averagesizes:\n",
    "    print(averagesize)\n",
    "    offsets, parents, content, output, original = verify_correct(averagesize, vectorized16_max, \"max\")\n",
    "    if output is not None:\n",
    "        break"
   ]
  },
  {
   "cell_type": "code",
   "execution_count": 21,
   "metadata": {},
   "outputs": [
    {
     "name": "stdout",
     "output_type": "stream",
     "text": [
      "sum 0.3\n",
      "sum 0.5\n",
      "sum 1.0\n",
      "sum 2.0\n",
      "sum 3.0\n",
      "sum 5.0\n",
      "sum 10.0\n",
      "sum 20.0\n",
      "sum 30.0\n",
      "sum 50.0\n",
      "sum 100.0\n",
      "sum 200.0\n",
      "sum 300.0\n",
      "sum 500.0\n",
      "sum 1000.0\n"
     ]
    }
   ],
   "source": [
    "for averagesize in averagesizes:\n",
    "    print(\"sum\", averagesize)\n",
    "    sum_rates.loc[averagesize, \"vectorized (AVX-512)\"] = measure(averagesize, vectorized16_sum)"
   ]
  },
  {
   "cell_type": "code",
   "execution_count": 22,
   "metadata": {},
   "outputs": [
    {
     "name": "stdout",
     "output_type": "stream",
     "text": [
      "max 0.3\n",
      "max 0.5\n",
      "max 1.0\n",
      "max 2.0\n",
      "max 3.0\n",
      "max 5.0\n",
      "max 10.0\n",
      "max 20.0\n",
      "max 30.0\n",
      "max 50.0\n",
      "max 100.0\n",
      "max 200.0\n",
      "max 300.0\n",
      "max 500.0\n",
      "max 1000.0\n"
     ]
    }
   ],
   "source": [
    "for averagesize in averagesizes:\n",
    "    print(\"max\", averagesize)\n",
    "    max_rates.loc[averagesize, \"vectorized (AVX-512)\"] = measure(averagesize, vectorized16_max)"
   ]
  },
  {
   "cell_type": "code",
   "execution_count": 23,
   "metadata": {},
   "outputs": [
    {
     "data": {
      "text/plain": [
       "<matplotlib.axes._subplots.AxesSubplot at 0x7f39beb48b00>"
      ]
     },
     "execution_count": 23,
     "metadata": {},
     "output_type": "execute_result"
    },
    {
     "data": {
      "image/png": "[encoded data removed]",
      "text/plain": [
       "<Figure size 432x288 with 1 Axes>"
      ]
     },
     "metadata": {
      "needs_background": "light"
     },
     "output_type": "display_data"
    }
   ],
   "source": [
    "sum_rates.plot(logx=True)"
   ]
  },
  {
   "cell_type": "code",
   "execution_count": 24,
   "metadata": {},
   "outputs": [
    {
     "data": {
      "text/plain": [
       "<matplotlib.axes._subplots.AxesSubplot at 0x7f39be7e56d8>"
      ]
     },
     "execution_count": 24,
     "metadata": {},
     "output_type": "execute_result"
    },
    {
     "data": {
      "image/png": "[encoded data removed]",
      "text/plain": [
       "<Figure size 432x288 with 1 Axes>"
      ]
     },
     "metadata": {
      "needs_background": "light"
     },
     "output_type": "display_data"
    }
   ],
   "source": [
    "max_rates.plot(logx=True)"
   ]
  },
  {
   "cell_type": "markdown",
   "metadata": {},
   "source": [
    "## Vectorized by 1024 (GPU/CUDA)\n",
    "\n",
    "The same technique can be applied at a much larger scale on a GPU. The main difference in the CUDA code below is that we have no idea which order the blocks will be evaluated in, so passing partial events over vector borders (the \"carry\" in the algorithm above) must be performed as a separate step, to be sure that the first set of blocks have finished.\n",
    "\n",
    "Since this step is likely to be part of a larger analysis performed on a GPU, with arrays already loaded on the GPU, we don't include the data copy from CPU to GPU in the performance. (Also, it depends heavily on the hardware, not a good test of the algorithm.)"
   ]
  },
  {
   "cell_type": "code",
   "execution_count": 25,
   "metadata": {},
   "outputs": [],
   "source": [
    "import pycuda\n",
    "import pycuda.autoinit\n",
    "import pycuda.compiler\n",
    "import pycuda.gpuarray"
   ]
  },
  {
   "cell_type": "code",
   "execution_count": 26,
   "metadata": {},
   "outputs": [],
   "source": [
    "module = pycuda.compiler.SourceModule(\"\"\"\n",
    "__global__ void sum_step1(int len_offsets, int* offsets, float* output, int* blockoffsets) {\n",
    "    int i = threadIdx.x + blockIdx.x*blockDim.x;\n",
    "    // initialize output\n",
    "    if (i < len_offsets - 1) {\n",
    "        output[i] = 0.0;\n",
    "    }\n",
    "    \n",
    "    // set up blockoffsets\n",
    "    if (i != 0  &&  i < len_offsets - 1) {\n",
    "        int prevblock = offsets[i - 1] / 1024;\n",
    "        int thisblock = offsets[i] / 1024;\n",
    "        if (prevblock != thisblock) {\n",
    "            blockoffsets[thisblock] = offsets[i - 1];\n",
    "        }\n",
    "    }\n",
    "}\n",
    "\n",
    "__global__ void sum_step2(int* blockoffsets, int len_parents, int* parents, float* content, float* output) {\n",
    "    int offset = blockoffsets[blockIdx.x];\n",
    "    int nextoffset = blockoffsets[blockIdx.x + 1];\n",
    "    \n",
    "    // parallel cumulative sum\n",
    "    int i = threadIdx.x;\n",
    "    if (i < nextoffset - offset) {\n",
    "        for (int d = 1;  d < 1024;  d *= 2) {\n",
    "            if (i >= d  &&  parents[offset + i] == parents[offset + i - d]) {\n",
    "                content[offset + i] += content[offset + i - d];\n",
    "            }\n",
    "            __syncthreads();\n",
    "        }\n",
    "    }\n",
    "\n",
    "    // send the last element of each group to the output\n",
    "    if ((offset + i < len_parents - 1  &&  parents[offset + i + 1] != parents[offset + i])  ||  offset + i == len_parents - 1) {\n",
    "        output[parents[offset + i]] = content[offset + i];\n",
    "    }\n",
    "\n",
    "    // clean up extra items for groups that overhang the 1024 boundary (rare)\n",
    "    if (nextoffset - offset > 1024  &&  i == 1023) {\n",
    "        for (i = i + 1;  i < nextoffset - offset;  i++) {\n",
    "            if (parents[offset + i] == parents[offset + i - 1]) {\n",
    "                content[offset + i] += content[offset + i - 1];\n",
    "            }\n",
    "        }\n",
    "        output[parents[offset + i - 1]] = content[offset + i - 1];\n",
    "    }\n",
    "}\n",
    "\n",
    "__global__ void max_step1(int len_offsets, int* offsets, float* output, int* blockoffsets) {\n",
    "    int i = threadIdx.x + blockIdx.x*blockDim.x;\n",
    "    // initialize output\n",
    "    if (i < len_offsets - 1) {\n",
    "        output[i] = -INFINITY;\n",
    "    }\n",
    "    \n",
    "    // set up blockoffsets\n",
    "    if (i != 0  &&  i < len_offsets - 1) {\n",
    "        int prevblock = offsets[i - 1] / 1024;\n",
    "        int thisblock = offsets[i] / 1024;\n",
    "        if (prevblock != thisblock) {\n",
    "            blockoffsets[thisblock] = offsets[i - 1];\n",
    "        }\n",
    "    }\n",
    "}\n",
    "\n",
    "__global__ void max_step2(int* blockoffsets, int len_parents, int* parents, float* content, float* output) {\n",
    "    int offset = blockoffsets[blockIdx.x];\n",
    "    int nextoffset = blockoffsets[blockIdx.x + 1];\n",
    "    \n",
    "    // parallel cumulative sum\n",
    "    int i = threadIdx.x;\n",
    "    if (i < nextoffset - offset) {\n",
    "        for (int d = 1;  d < 1024;  d *= 2) {\n",
    "            if (i >= d  &&  parents[offset + i] == parents[offset + i - d]  &&  content[offset + i] < content[offset + i - d]) {\n",
    "                content[offset + i] = content[offset + i - d];\n",
    "            }\n",
    "            __syncthreads();\n",
    "        }\n",
    "    }\n",
    "\n",
    "    // send the last element of each group to the output\n",
    "    if ((offset + i < len_parents - 1  &&  parents[offset + i + 1] != parents[offset + i])  ||  offset + i == len_parents - 1) {\n",
    "        output[parents[offset + i]] = content[offset + i];\n",
    "    }\n",
    "\n",
    "    // clean up extra items for groups that overhang the 1024 boundary (rare)\n",
    "    if (nextoffset - offset > 1024  &&  i == 1023) {\n",
    "        for (i = i + 1;  i < nextoffset - offset;  i++) {\n",
    "            if (parents[offset + i] == parents[offset + i - 1]  &&  content[offset + i] < content[offset + i - 1]) {\n",
    "                content[offset + i] = content[offset + i - 1];\n",
    "            }\n",
    "        }\n",
    "        output[parents[offset + i - 1]] = content[offset + i - 1];\n",
    "    }\n",
    "}\n",
    "\"\"\")\n",
    "\n",
    "sum_step1 = module.get_function(\"sum_step1\")\n",
    "sum_step2 = module.get_function(\"sum_step2\")\n",
    "max_step1 = module.get_function(\"max_step1\")\n",
    "max_step2 = module.get_function(\"max_step2\")"
   ]
  },
  {
   "cell_type": "code",
   "execution_count": 27,
   "metadata": {},
   "outputs": [],
   "source": [
    "def get_dataset_cuda(averagesize, location=\"/tmp/DATA\"):\n",
    "    offsets, parents, content = get_dataset(averagesize, location=location)\n",
    "    offsets = pycuda.gpuarray.to_gpu(offsets)\n",
    "    parents = pycuda.gpuarray.to_gpu(parents)\n",
    "    content = pycuda.gpuarray.to_gpu(content)\n",
    "    blockoffsets = pycuda.gpuarray.zeros(len(parents) // 1024 + 1, dtype=numpy.int32)\n",
    "    output = pycuda.gpuarray.empty(len(offsets) - 1, dtype=numpy.float32)\n",
    "    return offsets, parents, content, blockoffsets, output\n",
    "\n",
    "def run_sum(offsets, parents, content, blockoffsets, output):\n",
    "    sum_step1(numpy.int32(len(offsets)), offsets, output, blockoffsets,\n",
    "              block=(1024, 1, 1), grid=(len(output) // 1024 + 1, 1))\n",
    "    sum_step2(blockoffsets, numpy.int32(len(parents)), parents, content, output,\n",
    "              block=(1024, 1, 1), grid=(len(blockoffsets) - 1, 1))\n",
    "\n",
    "def run_max(offsets, parents, content, blockoffsets, output):\n",
    "    max_step1(numpy.int32(len(offsets)), offsets, output, blockoffsets,\n",
    "              block=(1024, 1, 1), grid=(len(output) // 1024 + 1, 1))\n",
    "    max_step2(blockoffsets, numpy.int32(len(parents)), parents, content, output,\n",
    "              block=(1024, 1, 1), grid=(len(blockoffsets) - 1, 1))"
   ]
  },
  {
   "cell_type": "code",
   "execution_count": 28,
   "metadata": {},
   "outputs": [],
   "source": [
    "import time\n",
    "\n",
    "def measure_cuda(averagesize, run, numtimes=10, location=\"/tmp/DATA\"):\n",
    "    offsets, parents, content, blockoffsets, output = get_dataset_cuda(averagesize, location=location)\n",
    "    starttime = time.time()\n",
    "    for i in range(numtimes):\n",
    "        run(offsets, parents, content, blockoffsets, output)\n",
    "    pycuda.driver.Context.synchronize()\n",
    "    runtime = time.time() - starttime\n",
    "    del offsets, parents, content, blockoffsets, output\n",
    "    return tasksize * numtimes * 1e-6 / runtime   # MHz in number of particles (not events)"
   ]
  },
  {
   "cell_type": "code",
   "execution_count": 29,
   "metadata": {},
   "outputs": [
    {
     "name": "stdout",
     "output_type": "stream",
     "text": [
      "sum 0.3\n",
      "sum 0.5\n",
      "sum 1.0\n",
      "sum 2.0\n",
      "sum 3.0\n",
      "sum 5.0\n",
      "sum 10.0\n",
      "sum 20.0\n",
      "sum 30.0\n",
      "sum 50.0\n",
      "sum 100.0\n",
      "sum 200.0\n",
      "sum 300.0\n",
      "sum 500.0\n"
     ]
    }
   ],
   "source": [
    "for averagesize in averagesizes[:-1]:\n",
    "    print(\"sum\", averagesize)\n",
    "    sum_rates.loc[averagesize, \"vectorized (GPU)\"] = measure_cuda(averagesize, run_sum)"
   ]
  },
  {
   "cell_type": "code",
   "execution_count": 30,
   "metadata": {},
   "outputs": [
    {
     "name": "stdout",
     "output_type": "stream",
     "text": [
      "max 0.3\n",
      "max 0.5\n",
      "max 1.0\n",
      "max 2.0\n",
      "max 3.0\n",
      "max 5.0\n",
      "max 10.0\n",
      "max 20.0\n",
      "max 30.0\n",
      "max 50.0\n",
      "max 100.0\n",
      "max 200.0\n"
     ]
    }
   ],
   "source": [
    "for averagesize in averagesizes[:-3]:\n",
    "    print(\"max\", averagesize)\n",
    "    max_rates.loc[averagesize, \"vectorized (GPU)\"] = measure_cuda(averagesize, run_max)"
   ]
  },
  {
   "cell_type": "code",
   "execution_count": 31,
   "metadata": {},
   "outputs": [
    {
     "data": {
      "image/png": "[encoded data removed]",
      "text/plain": [
       "<Figure size 432x288 with 1 Axes>"
      ]
     },
     "metadata": {
      "needs_background": "light"
     },
     "output_type": "display_data"
    }
   ],
   "source": [
    "sum_rates.plot(logx=True).get_figure().savefig(\"sum_rates.pdf\")"
   ]
  },
  {
   "cell_type": "code",
   "execution_count": 32,
   "metadata": {},
   "outputs": [
    {
     "data": {
      "image/png": "[encoded data removed]",
      "text/plain": [
       "<Figure size 432x288 with 1 Axes>"
      ]
     },
     "metadata": {
      "needs_background": "light"
     },
     "output_type": "display_data"
    }
   ],
   "source": [
    "max_rates.plot(logx=True).get_figure().savefig(\"max_rates.pdf\")"
   ]
  },
  {
   "cell_type": "code",
   "execution_count": 33,
   "metadata": {},
   "outputs": [
    {
     "data": {
      "text/html": [
       "<div>\n",
       "<style scoped>\n",
       "    .dataframe tbody tr th:only-of-type {\n",
       "        vertical-align: middle;\n",
       "    }\n",
       "\n",
       "    .dataframe tbody tr th {\n",
       "        vertical-align: top;\n",
       "    }\n",
       "\n",
       "    .dataframe thead th {\n",
       "        text-align: right;\n",
       "    }\n",
       "</style>\n",
       "<table border=\"1\" class=\"dataframe\">\n",
       "  <thead>\n",
       "    <tr style=\"text-align: right;\">\n",
       "      <th></th>\n",
       "      <th>sequential</th>\n",
       "      <th>sequential-parents</th>\n",
       "      <th>vectorized (AVX-512)</th>\n",
       "      <th>vectorized (GPU)</th>\n",
       "    </tr>\n",
       "    <tr>\n",
       "      <th>average number of items per group</th>\n",
       "      <th></th>\n",
       "      <th></th>\n",
       "      <th></th>\n",
       "      <th></th>\n",
       "    </tr>\n",
       "  </thead>\n",
       "  <tbody>\n",
       "    <tr>\n",
       "      <th>0.3</th>\n",
       "      <td>75.4062</td>\n",
       "      <td>281.757188</td>\n",
       "      <td>359.321331</td>\n",
       "      <td>5443.168177</td>\n",
       "    </tr>\n",
       "    <tr>\n",
       "      <th>0.5</th>\n",
       "      <td>87.4129</td>\n",
       "      <td>265.316354</td>\n",
       "      <td>510.883254</td>\n",
       "      <td>6772.018768</td>\n",
       "    </tr>\n",
       "    <tr>\n",
       "      <th>1.0</th>\n",
       "      <td>119.021</td>\n",
       "      <td>205.746020</td>\n",
       "      <td>726.753417</td>\n",
       "      <td>8294.728265</td>\n",
       "    </tr>\n",
       "    <tr>\n",
       "      <th>2.0</th>\n",
       "      <td>184.379</td>\n",
       "      <td>208.353361</td>\n",
       "      <td>871.411867</td>\n",
       "      <td>9054.474019</td>\n",
       "    </tr>\n",
       "    <tr>\n",
       "      <th>3.0</th>\n",
       "      <td>247.595</td>\n",
       "      <td>241.198336</td>\n",
       "      <td>935.780734</td>\n",
       "      <td>9183.836393</td>\n",
       "    </tr>\n",
       "    <tr>\n",
       "      <th>5.0</th>\n",
       "      <td>348.969</td>\n",
       "      <td>318.083640</td>\n",
       "      <td>970.173603</td>\n",
       "      <td>9161.149407</td>\n",
       "    </tr>\n",
       "    <tr>\n",
       "      <th>10.0</th>\n",
       "      <td>633.969</td>\n",
       "      <td>465.609814</td>\n",
       "      <td>1012.468830</td>\n",
       "      <td>8742.486363</td>\n",
       "    </tr>\n",
       "    <tr>\n",
       "      <th>20.0</th>\n",
       "      <td>885.29</td>\n",
       "      <td>658.531343</td>\n",
       "      <td>1035.851087</td>\n",
       "      <td>8055.636328</td>\n",
       "    </tr>\n",
       "    <tr>\n",
       "      <th>30.0</th>\n",
       "      <td>1007.16</td>\n",
       "      <td>754.335541</td>\n",
       "      <td>1022.885464</td>\n",
       "      <td>7638.882262</td>\n",
       "    </tr>\n",
       "    <tr>\n",
       "      <th>50.0</th>\n",
       "      <td>996.034</td>\n",
       "      <td>796.275962</td>\n",
       "      <td>1036.603489</td>\n",
       "      <td>7083.154325</td>\n",
       "    </tr>\n",
       "    <tr>\n",
       "      <th>100.0</th>\n",
       "      <td>849.709</td>\n",
       "      <td>737.433594</td>\n",
       "      <td>1065.852131</td>\n",
       "      <td>6188.278827</td>\n",
       "    </tr>\n",
       "    <tr>\n",
       "      <th>200.0</th>\n",
       "      <td>781.679</td>\n",
       "      <td>698.916475</td>\n",
       "      <td>1056.462493</td>\n",
       "      <td>5620.244277</td>\n",
       "    </tr>\n",
       "    <tr>\n",
       "      <th>300.0</th>\n",
       "      <td>767.73</td>\n",
       "      <td>701.956415</td>\n",
       "      <td>1063.920662</td>\n",
       "      <td>4553.191074</td>\n",
       "    </tr>\n",
       "    <tr>\n",
       "      <th>500.0</th>\n",
       "      <td>740.386</td>\n",
       "      <td>697.978223</td>\n",
       "      <td>1048.896962</td>\n",
       "      <td>5198.678238</td>\n",
       "    </tr>\n",
       "    <tr>\n",
       "      <th>1000.0</th>\n",
       "      <td>729.271</td>\n",
       "      <td>695.481456</td>\n",
       "      <td>1049.122068</td>\n",
       "      <td>NaN</td>\n",
       "    </tr>\n",
       "  </tbody>\n",
       "</table>\n",
       "</div>"
      ],
      "text/plain": [
       "                                  sequential  sequential-parents  \\\n",
       "average number of items per group                                  \n",
       "0.3                                  75.4062          281.757188   \n",
       "0.5                                  87.4129          265.316354   \n",
       "1.0                                  119.021          205.746020   \n",
       "2.0                                  184.379          208.353361   \n",
       "3.0                                  247.595          241.198336   \n",
       "5.0                                  348.969          318.083640   \n",
       "10.0                                 633.969          465.609814   \n",
       "20.0                                  885.29          658.531343   \n",
       "30.0                                 1007.16          754.335541   \n",
       "50.0                                 996.034          796.275962   \n",
       "100.0                                849.709          737.433594   \n",
       "200.0                                781.679          698.916475   \n",
       "300.0                                 767.73          701.956415   \n",
       "500.0                                740.386          697.978223   \n",
       "1000.0                               729.271          695.481456   \n",
       "\n",
       "                                   vectorized (AVX-512)  vectorized (GPU)  \n",
       "average number of items per group                                          \n",
       "0.3                                          359.321331       5443.168177  \n",
       "0.5                                          510.883254       6772.018768  \n",
       "1.0                                          726.753417       8294.728265  \n",
       "2.0                                          871.411867       9054.474019  \n",
       "3.0                                          935.780734       9183.836393  \n",
       "5.0                                          970.173603       9161.149407  \n",
       "10.0                                        1012.468830       8742.486363  \n",
       "20.0                                        1035.851087       8055.636328  \n",
       "30.0                                        1022.885464       7638.882262  \n",
       "50.0                                        1036.603489       7083.154325  \n",
       "100.0                                       1065.852131       6188.278827  \n",
       "200.0                                       1056.462493       5620.244277  \n",
       "300.0                                       1063.920662       4553.191074  \n",
       "500.0                                       1048.896962       5198.678238  \n",
       "1000.0                                      1049.122068               NaN  "
      ]
     },
     "execution_count": 33,
     "metadata": {},
     "output_type": "execute_result"
    }
   ],
   "source": [
    "sum_rates"
   ]
  },
  {
   "cell_type": "code",
   "execution_count": 34,
   "metadata": {},
   "outputs": [
    {
     "data": {
      "text/html": [
       "<div>\n",
       "<style scoped>\n",
       "    .dataframe tbody tr th:only-of-type {\n",
       "        vertical-align: middle;\n",
       "    }\n",
       "\n",
       "    .dataframe tbody tr th {\n",
       "        vertical-align: top;\n",
       "    }\n",
       "\n",
       "    .dataframe thead th {\n",
       "        text-align: right;\n",
       "    }\n",
       "</style>\n",
       "<table border=\"1\" class=\"dataframe\">\n",
       "  <thead>\n",
       "    <tr style=\"text-align: right;\">\n",
       "      <th></th>\n",
       "      <th>sequential</th>\n",
       "      <th>sequential-parents</th>\n",
       "      <th>vectorized (AVX-512)</th>\n",
       "      <th>vectorized (GPU)</th>\n",
       "    </tr>\n",
       "    <tr>\n",
       "      <th>average number of items per group</th>\n",
       "      <th></th>\n",
       "      <th></th>\n",
       "      <th></th>\n",
       "      <th></th>\n",
       "    </tr>\n",
       "  </thead>\n",
       "  <tbody>\n",
       "    <tr>\n",
       "      <th>0.3</th>\n",
       "      <td>67.0056</td>\n",
       "      <td>284.252271</td>\n",
       "      <td>353.962131</td>\n",
       "      <td>5723.144854</td>\n",
       "    </tr>\n",
       "    <tr>\n",
       "      <th>0.5</th>\n",
       "      <td>76.7966</td>\n",
       "      <td>266.760422</td>\n",
       "      <td>503.872049</td>\n",
       "      <td>7241.146898</td>\n",
       "    </tr>\n",
       "    <tr>\n",
       "      <th>1.0</th>\n",
       "      <td>94.7531</td>\n",
       "      <td>204.334491</td>\n",
       "      <td>707.483397</td>\n",
       "      <td>9145.249350</td>\n",
       "    </tr>\n",
       "    <tr>\n",
       "      <th>2.0</th>\n",
       "      <td>121.661</td>\n",
       "      <td>206.323632</td>\n",
       "      <td>862.276966</td>\n",
       "      <td>10425.008264</td>\n",
       "    </tr>\n",
       "    <tr>\n",
       "      <th>3.0</th>\n",
       "      <td>137.129</td>\n",
       "      <td>243.273037</td>\n",
       "      <td>916.319685</td>\n",
       "      <td>10748.892898</td>\n",
       "    </tr>\n",
       "    <tr>\n",
       "      <th>5.0</th>\n",
       "      <td>178.531</td>\n",
       "      <td>315.112738</td>\n",
       "      <td>968.767258</td>\n",
       "      <td>10999.779706</td>\n",
       "    </tr>\n",
       "    <tr>\n",
       "      <th>10.0</th>\n",
       "      <td>252.998</td>\n",
       "      <td>495.522603</td>\n",
       "      <td>979.359292</td>\n",
       "      <td>10789.511729</td>\n",
       "    </tr>\n",
       "    <tr>\n",
       "      <th>20.0</th>\n",
       "      <td>367.269</td>\n",
       "      <td>651.175687</td>\n",
       "      <td>1003.718323</td>\n",
       "      <td>10197.303770</td>\n",
       "    </tr>\n",
       "    <tr>\n",
       "      <th>30.0</th>\n",
       "      <td>430.732</td>\n",
       "      <td>718.573716</td>\n",
       "      <td>1027.194937</td>\n",
       "      <td>9712.274462</td>\n",
       "    </tr>\n",
       "    <tr>\n",
       "      <th>50.0</th>\n",
       "      <td>507.48</td>\n",
       "      <td>800.616319</td>\n",
       "      <td>1032.234439</td>\n",
       "      <td>8938.962013</td>\n",
       "    </tr>\n",
       "    <tr>\n",
       "      <th>100.0</th>\n",
       "      <td>602.272</td>\n",
       "      <td>760.423428</td>\n",
       "      <td>1038.264733</td>\n",
       "      <td>7697.029866</td>\n",
       "    </tr>\n",
       "    <tr>\n",
       "      <th>200.0</th>\n",
       "      <td>625.036</td>\n",
       "      <td>740.722740</td>\n",
       "      <td>1024.910809</td>\n",
       "      <td>6910.608515</td>\n",
       "    </tr>\n",
       "    <tr>\n",
       "      <th>300.0</th>\n",
       "      <td>636.817</td>\n",
       "      <td>717.438864</td>\n",
       "      <td>981.927430</td>\n",
       "      <td>NaN</td>\n",
       "    </tr>\n",
       "    <tr>\n",
       "      <th>500.0</th>\n",
       "      <td>743.63</td>\n",
       "      <td>717.705999</td>\n",
       "      <td>1007.085826</td>\n",
       "      <td>NaN</td>\n",
       "    </tr>\n",
       "    <tr>\n",
       "      <th>1000.0</th>\n",
       "      <td>641.243</td>\n",
       "      <td>715.961682</td>\n",
       "      <td>1025.136259</td>\n",
       "      <td>NaN</td>\n",
       "    </tr>\n",
       "  </tbody>\n",
       "</table>\n",
       "</div>"
      ],
      "text/plain": [
       "                                  sequential  sequential-parents  \\\n",
       "average number of items per group                                  \n",
       "0.3                                  67.0056          284.252271   \n",
       "0.5                                  76.7966          266.760422   \n",
       "1.0                                  94.7531          204.334491   \n",
       "2.0                                  121.661          206.323632   \n",
       "3.0                                  137.129          243.273037   \n",
       "5.0                                  178.531          315.112738   \n",
       "10.0                                 252.998          495.522603   \n",
       "20.0                                 367.269          651.175687   \n",
       "30.0                                 430.732          718.573716   \n",
       "50.0                                  507.48          800.616319   \n",
       "100.0                                602.272          760.423428   \n",
       "200.0                                625.036          740.722740   \n",
       "300.0                                636.817          717.438864   \n",
       "500.0                                 743.63          717.705999   \n",
       "1000.0                               641.243          715.961682   \n",
       "\n",
       "                                   vectorized (AVX-512)  vectorized (GPU)  \n",
       "average number of items per group                                          \n",
       "0.3                                          353.962131       5723.144854  \n",
       "0.5                                          503.872049       7241.146898  \n",
       "1.0                                          707.483397       9145.249350  \n",
       "2.0                                          862.276966      10425.008264  \n",
       "3.0                                          916.319685      10748.892898  \n",
       "5.0                                          968.767258      10999.779706  \n",
       "10.0                                         979.359292      10789.511729  \n",
       "20.0                                        1003.718323      10197.303770  \n",
       "30.0                                        1027.194937       9712.274462  \n",
       "50.0                                        1032.234439       8938.962013  \n",
       "100.0                                       1038.264733       7697.029866  \n",
       "200.0                                       1024.910809       6910.608515  \n",
       "300.0                                        981.927430               NaN  \n",
       "500.0                                       1007.085826               NaN  \n",
       "1000.0                                      1025.136259               NaN  "
      ]
     },
     "execution_count": 34,
     "metadata": {},
     "output_type": "execute_result"
    }
   ],
   "source": [
    "max_rates"
   ]
  },
  {
   "cell_type": "code",
   "execution_count": null,
   "metadata": {},
   "outputs": [],
   "source": []
  }
 ],
 "metadata": {
  "kernelspec": {
   "display_name": "Python 3",
   "language": "python",
   "name": "python3"
  },
  "language_info": {
   "codemirror_mode": {
    "name": "ipython",
    "version": 3
   },
   "file_extension": ".py",
   "mimetype": "text/x-python",
   "name": "python",
   "nbconvert_exporter": "python",
   "pygments_lexer": "ipython3",
   "version": "3.6.3"
  }
 },
 "nbformat": 4,
 "nbformat_minor": 2
}
